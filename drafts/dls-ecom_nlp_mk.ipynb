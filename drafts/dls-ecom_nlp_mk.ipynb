{
 "cells": [
  {
   "cell_type": "code",
   "execution_count": 1,
   "id": "2d419e78-e08c-4e74-91bc-9c6a94c7af00",
   "metadata": {
    "execution": {
     "iopub.execute_input": "2024-09-23T17:43:35.954365Z",
     "iopub.status.busy": "2024-09-23T17:43:35.953375Z",
     "iopub.status.idle": "2024-09-23T17:43:35.981379Z",
     "shell.execute_reply": "2024-09-23T17:43:35.980072Z",
     "shell.execute_reply.started": "2024-09-23T17:43:35.954311Z"
    },
    "tags": []
   },
   "outputs": [],
   "source": [
    "import numpy as np\n",
    "import pandas as pd\n",
    "from sklearn.model_selection import train_test_split"
   ]
  },
  {
   "cell_type": "markdown",
   "id": "316060b7-a5d5-49b9-9214-dbe8e8f73858",
   "metadata": {},
   "source": [
    "Возьмем датасет с Олимпиады DLS https://drive.google.com/drive/folders/1WZr6XVEDLnNvwsNtFhWTC9yirY6n7Gri"
   ]
  },
  {
   "cell_type": "code",
   "execution_count": 2,
   "id": "90f00016-a093-4dba-9805-e9c5077e446b",
   "metadata": {
    "execution": {
     "iopub.execute_input": "2024-09-23T17:43:35.985052Z",
     "iopub.status.busy": "2024-09-23T17:43:35.983344Z",
     "iopub.status.idle": "2024-09-23T17:43:36.051466Z",
     "shell.execute_reply": "2024-09-23T17:43:36.050259Z",
     "shell.execute_reply.started": "2024-09-23T17:43:35.984992Z"
    },
    "tags": []
   },
   "outputs": [],
   "source": [
    "train_data = pd.read_csv(\"fake_or_real_train.csv\", index_col=\"id\")\n",
    "test_data = pd.read_csv(\"fake_or_real_test.csv\", index_col=\"id\")"
   ]
  },
  {
   "cell_type": "code",
   "execution_count": 3,
   "id": "bc710f99-bb36-48ee-ae02-b1c2d79e3484",
   "metadata": {
    "execution": {
     "iopub.execute_input": "2024-09-23T17:43:36.054567Z",
     "iopub.status.busy": "2024-09-23T17:43:36.053322Z",
     "iopub.status.idle": "2024-09-23T17:43:36.078417Z",
     "shell.execute_reply": "2024-09-23T17:43:36.077017Z",
     "shell.execute_reply.started": "2024-09-23T17:43:36.054529Z"
    },
    "tags": []
   },
   "outputs": [],
   "source": [
    "train_data = train_data.dropna()\n",
    "test_data = test_data.dropna()"
   ]
  },
  {
   "cell_type": "code",
   "execution_count": 4,
   "id": "7aaa5322-0584-450d-a084-9f36580b8472",
   "metadata": {
    "execution": {
     "iopub.execute_input": "2024-09-23T17:43:36.081268Z",
     "iopub.status.busy": "2024-09-23T17:43:36.080053Z",
     "iopub.status.idle": "2024-09-23T17:43:36.100518Z",
     "shell.execute_reply": "2024-09-23T17:43:36.099212Z",
     "shell.execute_reply.started": "2024-09-23T17:43:36.081207Z"
    },
    "tags": []
   },
   "outputs": [],
   "source": [
    "X_train = train_data[\"text\"]\n",
    "y_train = train_data[\"label\"]\n",
    "X_test = test_data[\"text\"]"
   ]
  },
  {
   "cell_type": "code",
   "execution_count": 5,
   "id": "830773a5-9ac8-4ff3-95fb-35b46593a042",
   "metadata": {
    "execution": {
     "iopub.execute_input": "2024-09-23T17:43:36.105676Z",
     "iopub.status.busy": "2024-09-23T17:43:36.104139Z",
     "iopub.status.idle": "2024-09-23T17:43:36.135645Z",
     "shell.execute_reply": "2024-09-23T17:43:36.134558Z",
     "shell.execute_reply.started": "2024-09-23T17:43:36.105620Z"
    },
    "tags": []
   },
   "outputs": [
    {
     "data": {
      "text/plain": [
       "(1440,)"
      ]
     },
     "execution_count": 5,
     "metadata": {},
     "output_type": "execute_result"
    }
   ],
   "source": [
    "X_train, X_val, y_train, y_val = train_test_split(\n",
    "    X_train, y_train, test_size=0.2, random_state=42\n",
    ")\n",
    "X_train.shape"
   ]
  },
  {
   "cell_type": "code",
   "execution_count": 6,
   "id": "318997dc-0055-4d02-bd6a-8e914c482502",
   "metadata": {
    "execution": {
     "iopub.execute_input": "2024-09-23T17:31:46.875208Z",
     "iopub.status.busy": "2024-09-23T17:31:46.874183Z",
     "iopub.status.idle": "2024-09-23T17:31:47.191305Z",
     "shell.execute_reply": "2024-09-23T17:31:47.189993Z",
     "shell.execute_reply.started": "2024-09-23T17:31:46.875160Z"
    },
    "tags": []
   },
   "outputs": [
    {
     "data": {
      "text/plain": [
       "<Axes: >"
      ]
     },
     "execution_count": 6,
     "metadata": {},
     "output_type": "execute_result"
    },
    {
     "data": {
      "image/png": "[encoded data removed]",
      "text/plain": [
       "<Figure size 640x480 with 1 Axes>"
      ]
     },
     "metadata": {},
     "output_type": "display_data"
    }
   ],
   "source": [
    "X_train.str.len().hist()"
   ]
  },
  {
   "cell_type": "markdown",
   "id": "5e26b58f-5e18-4ada-9c1c-0a1c38e49207",
   "metadata": {
    "execution": {
     "iopub.execute_input": "2024-09-23T17:36:22.231475Z",
     "iopub.status.busy": "2024-09-23T17:36:22.230150Z",
     "iopub.status.idle": "2024-09-23T17:36:22.248738Z",
     "shell.execute_reply": "2024-09-23T17:36:22.247423Z",
     "shell.execute_reply.started": "2024-09-23T17:36:22.231424Z"
    }
   },
   "source": [
    "## TF-IDF + Random Forest"
   ]
  },
  {
   "cell_type": "code",
   "execution_count": 7,
   "id": "4dc1347e-a6c2-4c81-bc99-2ca8fac40c11",
   "metadata": {
    "execution": {
     "iopub.execute_input": "2024-09-23T17:31:49.635862Z",
     "iopub.status.busy": "2024-09-23T17:31:49.634806Z",
     "iopub.status.idle": "2024-09-23T17:31:50.065077Z",
     "shell.execute_reply": "2024-09-23T17:31:50.063896Z",
     "shell.execute_reply.started": "2024-09-23T17:31:49.635812Z"
    },
    "tags": []
   },
   "outputs": [],
   "source": [
    "from sklearn.feature_extraction.text import TfidfVectorizer\n",
    "\n",
    "vectorizer = TfidfVectorizer(max_features=10000)\n",
    "X_train = vectorizer.fit_transform(X_train).toarray()\n",
    "X_val = vectorizer.transform(X_val).toarray()\n",
    "X_test = vectorizer.transform(X_test).toarray()"
   ]
  },
  {
   "cell_type": "code",
   "execution_count": 8,
   "id": "31b25da4-f20f-45fe-9eb8-bd129dc741c5",
   "metadata": {
    "execution": {
     "iopub.execute_input": "2024-09-23T17:31:50.068126Z",
     "iopub.status.busy": "2024-09-23T17:31:50.067047Z",
     "iopub.status.idle": "2024-09-23T17:31:50.084984Z",
     "shell.execute_reply": "2024-09-23T17:31:50.083872Z",
     "shell.execute_reply.started": "2024-09-23T17:31:50.068070Z"
    },
    "tags": []
   },
   "outputs": [
    {
     "data": {
      "text/plain": [
       "(1440, 10000)"
      ]
     },
     "execution_count": 8,
     "metadata": {},
     "output_type": "execute_result"
    }
   ],
   "source": [
    "X_train.shape"
   ]
  },
  {
   "cell_type": "code",
   "execution_count": 9,
   "id": "5a7b18f1-10ec-40ff-ae66-194163180fb2",
   "metadata": {
    "execution": {
     "iopub.execute_input": "2024-09-23T17:31:50.494521Z",
     "iopub.status.busy": "2024-09-23T17:31:50.493503Z",
     "iopub.status.idle": "2024-09-23T17:31:50.934844Z",
     "shell.execute_reply": "2024-09-23T17:31:50.933644Z",
     "shell.execute_reply.started": "2024-09-23T17:31:50.494444Z"
    },
    "tags": []
   },
   "outputs": [],
   "source": [
    "from sklearn.ensemble import RandomForestClassifier"
   ]
  },
  {
   "cell_type": "code",
   "execution_count": 10,
   "id": "40bec5bb-8b06-43b4-b462-0ab95f271070",
   "metadata": {
    "execution": {
     "iopub.execute_input": "2024-09-23T17:31:50.938325Z",
     "iopub.status.busy": "2024-09-23T17:31:50.936723Z",
     "iopub.status.idle": "2024-09-23T17:31:50.953208Z",
     "shell.execute_reply": "2024-09-23T17:31:50.951909Z",
     "shell.execute_reply.started": "2024-09-23T17:31:50.938268Z"
    },
    "tags": []
   },
   "outputs": [],
   "source": [
    "model = RandomForestClassifier(n_estimators=100, random_state=42)"
   ]
  },
  {
   "cell_type": "code",
   "execution_count": 11,
   "id": "a5b6f60e-85a6-4310-a94f-7570760af30c",
   "metadata": {
    "execution": {
     "iopub.execute_input": "2024-09-23T17:31:52.048635Z",
     "iopub.status.busy": "2024-09-23T17:31:52.047274Z",
     "iopub.status.idle": "2024-09-23T17:31:54.309582Z",
     "shell.execute_reply": "2024-09-23T17:31:54.308400Z",
     "shell.execute_reply.started": "2024-09-23T17:31:52.048578Z"
    },
    "tags": []
   },
   "outputs": [
    {
     "data": {
      "text/html": [
       "<style>#sk-container-id-1 {color: black;background-color: white;}#sk-container-id-1 pre{padding: 0;}#sk-container-id-1 div.sk-toggleable {background-color: white;}#sk-container-id-1 label.sk-toggleable__label {cursor: pointer;display: block;width: 100%;margin-bottom: 0;padding: 0.3em;box-sizing: border-box;text-align: center;}#sk-container-id-1 label.sk-toggleable__label-arrow:before {content: \"▸\";float: left;margin-right: 0.25em;color: #696969;}#sk-container-id-1 label.sk-toggleable__label-arrow:hover:before {color: black;}#sk-container-id-1 div.sk-estimator:hover label.sk-toggleable__label-arrow:before {color: black;}#sk-container-id-1 div.sk-toggleable__content {max-height: 0;max-width: 0;overflow: hidden;text-align: left;background-color: #f0f8ff;}#sk-container-id-1 div.sk-toggleable__content pre {margin: 0.2em;color: black;border-radius: 0.25em;background-color: #f0f8ff;}#sk-container-id-1 input.sk-toggleable__control:checked~div.sk-toggleable__content {max-height: 200px;max-width: 100%;overflow: auto;}#sk-container-id-1 input.sk-toggleable__control:checked~label.sk-toggleable__label-arrow:before {content: \"▾\";}#sk-container-id-1 div.sk-estimator input.sk-toggleable__control:checked~label.sk-toggleable__label {background-color: #d4ebff;}#sk-container-id-1 div.sk-label input.sk-toggleable__control:checked~label.sk-toggleable__label {background-color: #d4ebff;}#sk-container-id-1 input.sk-hidden--visually {border: 0;clip: rect(1px 1px 1px 1px);clip: rect(1px, 1px, 1px, 1px);height: 1px;margin: -1px;overflow: hidden;padding: 0;position: absolute;width: 1px;}#sk-container-id-1 div.sk-estimator {font-family: monospace;background-color: #f0f8ff;border: 1px dotted black;border-radius: 0.25em;box-sizing: border-box;margin-bottom: 0.5em;}#sk-container-id-1 div.sk-estimator:hover {background-color: #d4ebff;}#sk-container-id-1 div.sk-parallel-item::after {content: \"\";width: 100%;border-bottom: 1px solid gray;flex-grow: 1;}#sk-container-id-1 div.sk-label:hover label.sk-toggleable__label {background-color: #d4ebff;}#sk-container-id-1 div.sk-serial::before {content: \"\";position: absolute;border-left: 1px solid gray;box-sizing: border-box;top: 0;bottom: 0;left: 50%;z-index: 0;}#sk-container-id-1 div.sk-serial {display: flex;flex-direction: column;align-items: center;background-color: white;padding-right: 0.2em;padding-left: 0.2em;position: relative;}#sk-container-id-1 div.sk-item {position: relative;z-index: 1;}#sk-container-id-1 div.sk-parallel {display: flex;align-items: stretch;justify-content: center;background-color: white;position: relative;}#sk-container-id-1 div.sk-item::before, #sk-container-id-1 div.sk-parallel-item::before {content: \"\";position: absolute;border-left: 1px solid gray;box-sizing: border-box;top: 0;bottom: 0;left: 50%;z-index: -1;}#sk-container-id-1 div.sk-parallel-item {display: flex;flex-direction: column;z-index: 1;position: relative;background-color: white;}#sk-container-id-1 div.sk-parallel-item:first-child::after {align-self: flex-end;width: 50%;}#sk-container-id-1 div.sk-parallel-item:last-child::after {align-self: flex-start;width: 50%;}#sk-container-id-1 div.sk-parallel-item:only-child::after {width: 0;}#sk-container-id-1 div.sk-dashed-wrapped {border: 1px dashed gray;margin: 0 0.4em 0.5em 0.4em;box-sizing: border-box;padding-bottom: 0.4em;background-color: white;}#sk-container-id-1 div.sk-label label {font-family: monospace;font-weight: bold;display: inline-block;line-height: 1.2em;}#sk-container-id-1 div.sk-label-container {text-align: center;}#sk-container-id-1 div.sk-container {/* jupyter's `normalize.less` sets `[hidden] { display: none; }` but bootstrap.min.css set `[hidden] { display: none !important; }` so we also need the `!important` here to be able to override the default hidden behavior on the sphinx rendered scikit-learn.org. See: https://github.com/scikit-learn/scikit-learn/issues/21755 */display: inline-block !important;position: relative;}#sk-container-id-1 div.sk-text-repr-fallback {display: none;}</style><div id=\"sk-container-id-1\" class=\"sk-top-container\"><div class=\"sk-text-repr-fallback\"><pre>RandomForestClassifier(random_state=42)</pre><b>In a Jupyter environment, please rerun this cell to show the HTML representation or trust the notebook. <br />On GitHub, the HTML representation is unable to render, please try loading this page with nbviewer.org.</b></div><div class=\"sk-container\" hidden><div class=\"sk-item\"><div class=\"sk-estimator sk-toggleable\"><input class=\"sk-toggleable__control sk-hidden--visually\" id=\"sk-estimator-id-1\" type=\"checkbox\" checked><label for=\"sk-estimator-id-1\" class=\"sk-toggleable__label sk-toggleable__label-arrow\">RandomForestClassifier</label><div class=\"sk-toggleable__content\"><pre>RandomForestClassifier(random_state=42)</pre></div></div></div></div></div>"
      ],
      "text/plain": [
       "RandomForestClassifier(random_state=42)"
      ]
     },
     "execution_count": 11,
     "metadata": {},
     "output_type": "execute_result"
    }
   ],
   "source": [
    "model.fit(X_train, y_train)"
   ]
  },
  {
   "cell_type": "code",
   "execution_count": 12,
   "id": "4f499212-dd65-4ca8-86d2-d66e519f23e3",
   "metadata": {
    "execution": {
     "iopub.execute_input": "2024-09-23T17:31:54.312074Z",
     "iopub.status.busy": "2024-09-23T17:31:54.311234Z",
     "iopub.status.idle": "2024-09-23T17:31:54.326915Z",
     "shell.execute_reply": "2024-09-23T17:31:54.325725Z",
     "shell.execute_reply.started": "2024-09-23T17:31:54.312023Z"
    },
    "tags": []
   },
   "outputs": [],
   "source": [
    "from sklearn.metrics import accuracy_score, roc_auc_score"
   ]
  },
  {
   "cell_type": "code",
   "execution_count": 14,
   "id": "f6c74797-2f83-48c1-98f3-24188e748e11",
   "metadata": {
    "execution": {
     "iopub.execute_input": "2024-09-23T17:35:48.102339Z",
     "iopub.status.busy": "2024-09-23T17:35:48.101228Z",
     "iopub.status.idle": "2024-09-23T17:35:48.157664Z",
     "shell.execute_reply": "2024-09-23T17:35:48.156400Z",
     "shell.execute_reply.started": "2024-09-23T17:35:48.102286Z"
    },
    "tags": []
   },
   "outputs": [
    {
     "data": {
      "text/plain": [
       "0.9584487534626038"
      ]
     },
     "execution_count": 14,
     "metadata": {},
     "output_type": "execute_result"
    }
   ],
   "source": [
    "val_predictions = model.predict(X_val)\n",
    "accuracy_score(y_val, val_predictions)"
   ]
  },
  {
   "cell_type": "code",
   "execution_count": 15,
   "id": "e8241b34-8fe7-4b65-864e-203a2760cefd",
   "metadata": {
    "execution": {
     "iopub.execute_input": "2024-09-23T17:35:49.070524Z",
     "iopub.status.busy": "2024-09-23T17:35:49.069232Z",
     "iopub.status.idle": "2024-09-23T17:35:49.120336Z",
     "shell.execute_reply": "2024-09-23T17:35:49.119195Z",
     "shell.execute_reply.started": "2024-09-23T17:35:49.070480Z"
    },
    "tags": []
   },
   "outputs": [
    {
     "data": {
      "text/plain": [
       "0.9955996131528047"
      ]
     },
     "execution_count": 15,
     "metadata": {},
     "output_type": "execute_result"
    }
   ],
   "source": [
    "val_predictions_proba = model.predict_proba(X_val)[:, 1]\n",
    "roc_auc_score(y_val, val_predictions_proba)"
   ]
  },
  {
   "cell_type": "markdown",
   "id": "3fc9970e-ed96-4154-aa74-da0cb9d2ea6b",
   "metadata": {},
   "source": [
    "## Word2Vec + CatBoostClassifier"
   ]
  },
  {
   "cell_type": "code",
   "execution_count": 17,
   "id": "fc80872e-cd0b-43d1-9207-701e95945ecf",
   "metadata": {
    "execution": {
     "iopub.execute_input": "2024-09-23T17:36:42.193100Z",
     "iopub.status.busy": "2024-09-23T17:36:42.191661Z",
     "iopub.status.idle": "2024-09-23T17:36:44.100483Z",
     "shell.execute_reply": "2024-09-23T17:36:44.099314Z",
     "shell.execute_reply.started": "2024-09-23T17:36:42.193054Z"
    },
    "tags": []
   },
   "outputs": [],
   "source": [
    "import gensim\n",
    "from catboost import CatBoostClassifier"
   ]
  },
  {
   "cell_type": "code",
   "execution_count": 23,
   "id": "5749da60-bdca-4af3-8ad1-990edb47d0c9",
   "metadata": {
    "execution": {
     "iopub.execute_input": "2024-09-23T17:36:55.777748Z",
     "iopub.status.busy": "2024-09-23T17:36:55.776318Z",
     "iopub.status.idle": "2024-09-23T17:36:55.811328Z",
     "shell.execute_reply": "2024-09-23T17:36:55.810208Z",
     "shell.execute_reply.started": "2024-09-23T17:36:55.777691Z"
    },
    "tags": []
   },
   "outputs": [],
   "source": [
    "X_train_split = [sentence.split() for sentence in X_train]\n",
    "X_val_split = [sentence.split() for sentence in X_val]"
   ]
  },
  {
   "cell_type": "code",
   "execution_count": 24,
   "id": "b5409374-2100-4107-98ec-84439ead48a0",
   "metadata": {
    "execution": {
     "iopub.execute_input": "2024-09-23T17:36:55.998873Z",
     "iopub.status.busy": "2024-09-23T17:36:55.997564Z",
     "iopub.status.idle": "2024-09-23T17:36:57.154206Z",
     "shell.execute_reply": "2024-09-23T17:36:57.152840Z",
     "shell.execute_reply.started": "2024-09-23T17:36:55.998819Z"
    },
    "tags": []
   },
   "outputs": [],
   "source": [
    "word2vec_model = gensim.models.Word2Vec(\n",
    "    sentences=X_train_split, vector_size=500, window=10, min_count=1, workers=4\n",
    ")"
   ]
  },
  {
   "cell_type": "code",
   "execution_count": 25,
   "id": "9b07d41b-2f3e-42cc-a92b-3ec2c372a723",
   "metadata": {
    "execution": {
     "iopub.execute_input": "2024-09-23T17:36:57.157793Z",
     "iopub.status.busy": "2024-09-23T17:36:57.156473Z",
     "iopub.status.idle": "2024-09-23T17:36:57.196138Z",
     "shell.execute_reply": "2024-09-23T17:36:57.194943Z",
     "shell.execute_reply.started": "2024-09-23T17:36:57.157757Z"
    },
    "tags": []
   },
   "outputs": [],
   "source": [
    "def vectorize_text(text_data, word2vec_model):\n",
    "    vectors = []\n",
    "    for sentence in text_data:\n",
    "        vector = np.mean([ word2vec_model.wv[word] for word in sentence if word in word2vec_model.wv ], axis=0)\n",
    "        vectors.append(vector)\n",
    "    return np.array(vectors)"
   ]
  },
  {
   "cell_type": "code",
   "execution_count": 26,
   "id": "a5ff6f35-90de-44ee-a0c7-556a4c797e01",
   "metadata": {
    "execution": {
     "iopub.execute_input": "2024-09-23T17:36:57.199039Z",
     "iopub.status.busy": "2024-09-23T17:36:57.197669Z",
     "iopub.status.idle": "2024-09-23T17:36:57.544394Z",
     "shell.execute_reply": "2024-09-23T17:36:57.543140Z",
     "shell.execute_reply.started": "2024-09-23T17:36:57.198981Z"
    },
    "tags": []
   },
   "outputs": [],
   "source": [
    "X_train_w2v = vectorize_text(X_train_split, word2vec_model)\n",
    "X_val_w2v = vectorize_text(X_val_split, word2vec_model)"
   ]
  },
  {
   "cell_type": "code",
   "execution_count": 27,
   "id": "8ee16ed5-88c8-4c3c-8f54-cc1dd8380284",
   "metadata": {
    "execution": {
     "iopub.execute_input": "2024-09-23T17:36:57.548167Z",
     "iopub.status.busy": "2024-09-23T17:36:57.546756Z",
     "iopub.status.idle": "2024-09-23T17:36:57.564733Z",
     "shell.execute_reply": "2024-09-23T17:36:57.563466Z",
     "shell.execute_reply.started": "2024-09-23T17:36:57.548128Z"
    },
    "tags": []
   },
   "outputs": [
    {
     "data": {
      "text/plain": [
       "(1440, 500)"
      ]
     },
     "execution_count": 27,
     "metadata": {},
     "output_type": "execute_result"
    }
   ],
   "source": [
    "X_train_w2v.shape"
   ]
  },
  {
   "cell_type": "code",
   "execution_count": 29,
   "id": "fb2acca4-6e4c-4e12-8da7-ac16fe1feb3c",
   "metadata": {
    "execution": {
     "iopub.execute_input": "2024-09-23T17:37:29.430382Z",
     "iopub.status.busy": "2024-09-23T17:37:29.429036Z",
     "iopub.status.idle": "2024-09-23T17:37:49.149763Z",
     "shell.execute_reply": "2024-09-23T17:37:49.148436Z",
     "shell.execute_reply.started": "2024-09-23T17:37:29.430338Z"
    },
    "tags": []
   },
   "outputs": [
    {
     "name": "stdout",
     "output_type": "stream",
     "text": [
      "Learning rate set to 0.046878\n",
      "0:\tlearn: 0.8625000\ttest: 0.6509695\tbest: 0.6509695 (0)\ttotal: 50.4ms\tremaining: 25.1s\n",
      "1:\tlearn: 0.8631944\ttest: 0.6509695\tbest: 0.6509695 (0)\ttotal: 87.9ms\tremaining: 21.9s\n",
      "2:\tlearn: 0.8680556\ttest: 0.6509695\tbest: 0.6509695 (0)\ttotal: 125ms\tremaining: 20.7s\n",
      "3:\tlearn: 0.8673611\ttest: 0.6481994\tbest: 0.6509695 (0)\ttotal: 164ms\tremaining: 20.3s\n",
      "4:\tlearn: 0.8652778\ttest: 0.6454294\tbest: 0.6509695 (0)\ttotal: 204ms\tremaining: 20.2s\n",
      "5:\tlearn: 0.8638889\ttest: 0.6565097\tbest: 0.6565097 (5)\ttotal: 241ms\tremaining: 19.9s\n",
      "6:\tlearn: 0.8638889\ttest: 0.6481994\tbest: 0.6565097 (5)\ttotal: 279ms\tremaining: 19.7s\n",
      "7:\tlearn: 0.8652778\ttest: 0.6565097\tbest: 0.6565097 (5)\ttotal: 316ms\tremaining: 19.4s\n",
      "8:\tlearn: 0.8715278\ttest: 0.6620499\tbest: 0.6620499 (8)\ttotal: 356ms\tremaining: 19.4s\n",
      "9:\tlearn: 0.8763889\ttest: 0.6703601\tbest: 0.6703601 (9)\ttotal: 398ms\tremaining: 19.5s\n",
      "10:\tlearn: 0.8736111\ttest: 0.6814404\tbest: 0.6814404 (10)\ttotal: 436ms\tremaining: 19.4s\n",
      "11:\tlearn: 0.8756944\ttest: 0.7008310\tbest: 0.7008310 (11)\ttotal: 474ms\tremaining: 19.3s\n",
      "12:\tlearn: 0.8791667\ttest: 0.7008310\tbest: 0.7008310 (11)\ttotal: 513ms\tremaining: 19.2s\n",
      "13:\tlearn: 0.8791667\ttest: 0.7008310\tbest: 0.7008310 (11)\ttotal: 555ms\tremaining: 19.3s\n",
      "14:\tlearn: 0.8777778\ttest: 0.7119114\tbest: 0.7119114 (14)\ttotal: 597ms\tremaining: 19.3s\n",
      "15:\tlearn: 0.8777778\ttest: 0.7119114\tbest: 0.7119114 (14)\ttotal: 634ms\tremaining: 19.2s\n",
      "16:\tlearn: 0.8791667\ttest: 0.7119114\tbest: 0.7119114 (14)\ttotal: 673ms\tremaining: 19.1s\n",
      "17:\tlearn: 0.8798611\ttest: 0.7091413\tbest: 0.7119114 (14)\ttotal: 709ms\tremaining: 19s\n",
      "18:\tlearn: 0.8805556\ttest: 0.7091413\tbest: 0.7119114 (14)\ttotal: 747ms\tremaining: 18.9s\n",
      "19:\tlearn: 0.8812500\ttest: 0.7119114\tbest: 0.7119114 (14)\ttotal: 788ms\tremaining: 18.9s\n",
      "20:\tlearn: 0.8805556\ttest: 0.7146814\tbest: 0.7146814 (20)\ttotal: 828ms\tremaining: 18.9s\n",
      "21:\tlearn: 0.8798611\ttest: 0.7146814\tbest: 0.7146814 (20)\ttotal: 866ms\tremaining: 18.8s\n",
      "22:\tlearn: 0.8798611\ttest: 0.7146814\tbest: 0.7146814 (20)\ttotal: 904ms\tremaining: 18.8s\n",
      "23:\tlearn: 0.8784722\ttest: 0.7119114\tbest: 0.7146814 (20)\ttotal: 940ms\tremaining: 18.7s\n",
      "24:\tlearn: 0.8826389\ttest: 0.7119114\tbest: 0.7146814 (20)\ttotal: 978ms\tremaining: 18.6s\n",
      "25:\tlearn: 0.8819444\ttest: 0.7174515\tbest: 0.7174515 (25)\ttotal: 1.02s\tremaining: 18.5s\n",
      "26:\tlearn: 0.8833333\ttest: 0.7174515\tbest: 0.7174515 (25)\ttotal: 1.05s\tremaining: 18.5s\n",
      "27:\tlearn: 0.8812500\ttest: 0.7174515\tbest: 0.7174515 (25)\ttotal: 1.09s\tremaining: 18.4s\n",
      "28:\tlearn: 0.8826389\ttest: 0.7202216\tbest: 0.7202216 (28)\ttotal: 1.14s\tremaining: 18.5s\n",
      "29:\tlearn: 0.8826389\ttest: 0.7229917\tbest: 0.7229917 (29)\ttotal: 1.18s\tremaining: 18.5s\n",
      "30:\tlearn: 0.8840278\ttest: 0.7229917\tbest: 0.7229917 (29)\ttotal: 1.22s\tremaining: 18.5s\n",
      "31:\tlearn: 0.8840278\ttest: 0.7229917\tbest: 0.7229917 (29)\ttotal: 1.27s\tremaining: 18.5s\n",
      "32:\tlearn: 0.8861111\ttest: 0.7340720\tbest: 0.7340720 (32)\ttotal: 1.31s\tremaining: 18.5s\n",
      "33:\tlearn: 0.8875000\ttest: 0.7340720\tbest: 0.7340720 (32)\ttotal: 1.34s\tremaining: 18.4s\n",
      "34:\tlearn: 0.8895833\ttest: 0.7423823\tbest: 0.7423823 (34)\ttotal: 1.38s\tremaining: 18.4s\n",
      "35:\tlearn: 0.8888889\ttest: 0.7423823\tbest: 0.7423823 (34)\ttotal: 1.42s\tremaining: 18.3s\n",
      "36:\tlearn: 0.8902778\ttest: 0.7423823\tbest: 0.7423823 (34)\ttotal: 1.46s\tremaining: 18.3s\n",
      "37:\tlearn: 0.8909722\ttest: 0.7423823\tbest: 0.7423823 (34)\ttotal: 1.5s\tremaining: 18.2s\n",
      "38:\tlearn: 0.8909722\ttest: 0.7423823\tbest: 0.7423823 (34)\ttotal: 1.53s\tremaining: 18.1s\n",
      "39:\tlearn: 0.8902778\ttest: 0.7451524\tbest: 0.7451524 (39)\ttotal: 1.57s\tremaining: 18.1s\n",
      "40:\tlearn: 0.8909722\ttest: 0.7451524\tbest: 0.7451524 (39)\ttotal: 1.61s\tremaining: 18s\n",
      "41:\tlearn: 0.8916667\ttest: 0.7451524\tbest: 0.7451524 (39)\ttotal: 1.65s\tremaining: 18s\n",
      "42:\tlearn: 0.8923611\ttest: 0.7423823\tbest: 0.7451524 (39)\ttotal: 1.68s\tremaining: 17.9s\n",
      "43:\tlearn: 0.8937500\ttest: 0.7451524\tbest: 0.7451524 (39)\ttotal: 1.72s\tremaining: 17.9s\n",
      "44:\tlearn: 0.8944444\ttest: 0.7479224\tbest: 0.7479224 (44)\ttotal: 1.76s\tremaining: 17.8s\n",
      "45:\tlearn: 0.8951389\ttest: 0.7506925\tbest: 0.7506925 (45)\ttotal: 1.8s\tremaining: 17.7s\n",
      "46:\tlearn: 0.8972222\ttest: 0.7506925\tbest: 0.7506925 (45)\ttotal: 1.83s\tremaining: 17.7s\n",
      "47:\tlearn: 0.8986111\ttest: 0.7506925\tbest: 0.7506925 (45)\ttotal: 1.87s\tremaining: 17.6s\n",
      "48:\tlearn: 0.8993056\ttest: 0.7590028\tbest: 0.7590028 (48)\ttotal: 1.91s\tremaining: 17.6s\n",
      "49:\tlearn: 0.8979167\ttest: 0.7645429\tbest: 0.7645429 (49)\ttotal: 1.95s\tremaining: 17.5s\n",
      "50:\tlearn: 0.9006944\ttest: 0.7673130\tbest: 0.7673130 (50)\ttotal: 1.99s\tremaining: 17.5s\n",
      "51:\tlearn: 0.9006944\ttest: 0.7673130\tbest: 0.7673130 (50)\ttotal: 2.02s\tremaining: 17.4s\n",
      "52:\tlearn: 0.9027778\ttest: 0.7645429\tbest: 0.7673130 (50)\ttotal: 2.06s\tremaining: 17.4s\n",
      "53:\tlearn: 0.9027778\ttest: 0.7673130\tbest: 0.7673130 (50)\ttotal: 2.1s\tremaining: 17.3s\n",
      "54:\tlearn: 0.9034722\ttest: 0.7673130\tbest: 0.7673130 (50)\ttotal: 2.14s\tremaining: 17.3s\n",
      "55:\tlearn: 0.9027778\ttest: 0.7673130\tbest: 0.7673130 (50)\ttotal: 2.18s\tremaining: 17.3s\n",
      "56:\tlearn: 0.9041667\ttest: 0.7728532\tbest: 0.7728532 (56)\ttotal: 2.22s\tremaining: 17.2s\n",
      "57:\tlearn: 0.9041667\ttest: 0.7728532\tbest: 0.7728532 (56)\ttotal: 2.25s\tremaining: 17.2s\n",
      "58:\tlearn: 0.9055556\ttest: 0.7728532\tbest: 0.7728532 (56)\ttotal: 2.29s\tremaining: 17.1s\n",
      "59:\tlearn: 0.9069444\ttest: 0.7728532\tbest: 0.7728532 (56)\ttotal: 2.33s\tremaining: 17.1s\n",
      "60:\tlearn: 0.9076389\ttest: 0.7728532\tbest: 0.7728532 (56)\ttotal: 2.37s\tremaining: 17s\n",
      "61:\tlearn: 0.9083333\ttest: 0.7728532\tbest: 0.7728532 (56)\ttotal: 2.4s\tremaining: 17s\n",
      "62:\tlearn: 0.9083333\ttest: 0.7756233\tbest: 0.7756233 (62)\ttotal: 2.44s\tremaining: 16.9s\n",
      "63:\tlearn: 0.9090278\ttest: 0.7756233\tbest: 0.7756233 (62)\ttotal: 2.48s\tremaining: 16.9s\n",
      "64:\tlearn: 0.9111111\ttest: 0.7756233\tbest: 0.7756233 (62)\ttotal: 2.52s\tremaining: 16.9s\n",
      "65:\tlearn: 0.9118056\ttest: 0.7756233\tbest: 0.7756233 (62)\ttotal: 2.56s\tremaining: 16.8s\n",
      "66:\tlearn: 0.9125000\ttest: 0.7783934\tbest: 0.7783934 (66)\ttotal: 2.6s\tremaining: 16.8s\n",
      "67:\tlearn: 0.9125000\ttest: 0.7728532\tbest: 0.7783934 (66)\ttotal: 2.64s\tremaining: 16.8s\n",
      "68:\tlearn: 0.9131944\ttest: 0.7728532\tbest: 0.7783934 (66)\ttotal: 2.68s\tremaining: 16.7s\n",
      "69:\tlearn: 0.9131944\ttest: 0.7728532\tbest: 0.7783934 (66)\ttotal: 2.72s\tremaining: 16.7s\n",
      "70:\tlearn: 0.9131944\ttest: 0.7728532\tbest: 0.7783934 (66)\ttotal: 2.76s\tremaining: 16.7s\n",
      "71:\tlearn: 0.9152778\ttest: 0.7728532\tbest: 0.7783934 (66)\ttotal: 2.8s\tremaining: 16.7s\n",
      "72:\tlearn: 0.9159722\ttest: 0.7728532\tbest: 0.7783934 (66)\ttotal: 2.84s\tremaining: 16.6s\n",
      "73:\tlearn: 0.9152778\ttest: 0.7728532\tbest: 0.7783934 (66)\ttotal: 2.88s\tremaining: 16.6s\n",
      "74:\tlearn: 0.9166667\ttest: 0.7728532\tbest: 0.7783934 (66)\ttotal: 2.92s\tremaining: 16.6s\n",
      "75:\tlearn: 0.9166667\ttest: 0.7728532\tbest: 0.7783934 (66)\ttotal: 2.96s\tremaining: 16.5s\n",
      "76:\tlearn: 0.9173611\ttest: 0.7728532\tbest: 0.7783934 (66)\ttotal: 3s\tremaining: 16.5s\n",
      "77:\tlearn: 0.9180556\ttest: 0.7728532\tbest: 0.7783934 (66)\ttotal: 3.04s\tremaining: 16.4s\n",
      "78:\tlearn: 0.9180556\ttest: 0.7728532\tbest: 0.7783934 (66)\ttotal: 3.08s\tremaining: 16.4s\n",
      "79:\tlearn: 0.9180556\ttest: 0.7728532\tbest: 0.7783934 (66)\ttotal: 3.12s\tremaining: 16.4s\n",
      "80:\tlearn: 0.9194444\ttest: 0.7728532\tbest: 0.7783934 (66)\ttotal: 3.16s\tremaining: 16.4s\n",
      "81:\tlearn: 0.9201389\ttest: 0.7728532\tbest: 0.7783934 (66)\ttotal: 3.2s\tremaining: 16.3s\n",
      "82:\tlearn: 0.9222222\ttest: 0.7728532\tbest: 0.7783934 (66)\ttotal: 3.24s\tremaining: 16.3s\n",
      "83:\tlearn: 0.9229167\ttest: 0.7728532\tbest: 0.7783934 (66)\ttotal: 3.27s\tremaining: 16.2s\n",
      "84:\tlearn: 0.9229167\ttest: 0.7728532\tbest: 0.7783934 (66)\ttotal: 3.31s\tremaining: 16.2s\n",
      "85:\tlearn: 0.9222222\ttest: 0.7728532\tbest: 0.7783934 (66)\ttotal: 3.35s\tremaining: 16.1s\n",
      "86:\tlearn: 0.9222222\ttest: 0.7728532\tbest: 0.7783934 (66)\ttotal: 3.39s\tremaining: 16.1s\n",
      "87:\tlearn: 0.9229167\ttest: 0.7756233\tbest: 0.7783934 (66)\ttotal: 3.43s\tremaining: 16.1s\n",
      "88:\tlearn: 0.9222222\ttest: 0.7756233\tbest: 0.7783934 (66)\ttotal: 3.47s\tremaining: 16s\n",
      "89:\tlearn: 0.9222222\ttest: 0.7756233\tbest: 0.7783934 (66)\ttotal: 3.5s\tremaining: 16s\n",
      "90:\tlearn: 0.9236111\ttest: 0.7756233\tbest: 0.7783934 (66)\ttotal: 3.54s\tremaining: 15.9s\n",
      "91:\tlearn: 0.9243056\ttest: 0.7756233\tbest: 0.7783934 (66)\ttotal: 3.58s\tremaining: 15.9s\n",
      "92:\tlearn: 0.9291667\ttest: 0.7756233\tbest: 0.7783934 (66)\ttotal: 3.62s\tremaining: 15.8s\n",
      "93:\tlearn: 0.9312500\ttest: 0.7756233\tbest: 0.7783934 (66)\ttotal: 3.66s\tremaining: 15.8s\n",
      "94:\tlearn: 0.9298611\ttest: 0.7783934\tbest: 0.7783934 (66)\ttotal: 3.69s\tremaining: 15.8s\n",
      "95:\tlearn: 0.9305556\ttest: 0.7783934\tbest: 0.7783934 (66)\ttotal: 3.73s\tremaining: 15.7s\n",
      "96:\tlearn: 0.9312500\ttest: 0.7783934\tbest: 0.7783934 (66)\ttotal: 3.77s\tremaining: 15.7s\n",
      "97:\tlearn: 0.9326389\ttest: 0.7783934\tbest: 0.7783934 (66)\ttotal: 3.81s\tremaining: 15.6s\n",
      "98:\tlearn: 0.9312500\ttest: 0.7783934\tbest: 0.7783934 (66)\ttotal: 3.85s\tremaining: 15.6s\n",
      "99:\tlearn: 0.9312500\ttest: 0.7783934\tbest: 0.7783934 (66)\ttotal: 3.88s\tremaining: 15.5s\n",
      "100:\tlearn: 0.9312500\ttest: 0.7783934\tbest: 0.7783934 (66)\ttotal: 3.92s\tremaining: 15.5s\n",
      "101:\tlearn: 0.9347222\ttest: 0.7811634\tbest: 0.7811634 (101)\ttotal: 3.96s\tremaining: 15.5s\n",
      "102:\tlearn: 0.9347222\ttest: 0.7811634\tbest: 0.7811634 (101)\ttotal: 4s\tremaining: 15.4s\n",
      "103:\tlearn: 0.9354167\ttest: 0.7811634\tbest: 0.7811634 (101)\ttotal: 4.03s\tremaining: 15.4s\n",
      "104:\tlearn: 0.9347222\ttest: 0.7811634\tbest: 0.7811634 (101)\ttotal: 4.07s\tremaining: 15.3s\n",
      "105:\tlearn: 0.9361111\ttest: 0.7867036\tbest: 0.7867036 (105)\ttotal: 4.11s\tremaining: 15.3s\n",
      "106:\tlearn: 0.9388889\ttest: 0.7867036\tbest: 0.7867036 (105)\ttotal: 4.15s\tremaining: 15.2s\n",
      "107:\tlearn: 0.9388889\ttest: 0.7894737\tbest: 0.7894737 (107)\ttotal: 4.19s\tremaining: 15.2s\n",
      "108:\tlearn: 0.9395833\ttest: 0.7894737\tbest: 0.7894737 (107)\ttotal: 4.24s\tremaining: 15.2s\n",
      "109:\tlearn: 0.9402778\ttest: 0.7894737\tbest: 0.7894737 (107)\ttotal: 4.28s\tremaining: 15.2s\n",
      "110:\tlearn: 0.9409722\ttest: 0.7950139\tbest: 0.7950139 (110)\ttotal: 4.32s\tremaining: 15.1s\n",
      "111:\tlearn: 0.9395833\ttest: 0.7950139\tbest: 0.7950139 (110)\ttotal: 4.36s\tremaining: 15.1s\n",
      "112:\tlearn: 0.9388889\ttest: 0.7950139\tbest: 0.7950139 (110)\ttotal: 4.4s\tremaining: 15.1s\n",
      "113:\tlearn: 0.9381944\ttest: 0.7922438\tbest: 0.7950139 (110)\ttotal: 4.44s\tremaining: 15s\n",
      "114:\tlearn: 0.9388889\ttest: 0.7922438\tbest: 0.7950139 (110)\ttotal: 4.48s\tremaining: 15s\n",
      "115:\tlearn: 0.9388889\ttest: 0.7922438\tbest: 0.7950139 (110)\ttotal: 4.52s\tremaining: 15s\n",
      "116:\tlearn: 0.9395833\ttest: 0.7894737\tbest: 0.7950139 (110)\ttotal: 4.56s\tremaining: 14.9s\n",
      "117:\tlearn: 0.9409722\ttest: 0.7950139\tbest: 0.7950139 (110)\ttotal: 4.6s\tremaining: 14.9s\n",
      "118:\tlearn: 0.9423611\ttest: 0.7950139\tbest: 0.7950139 (110)\ttotal: 4.63s\tremaining: 14.8s\n",
      "119:\tlearn: 0.9437500\ttest: 0.7950139\tbest: 0.7950139 (110)\ttotal: 4.67s\tremaining: 14.8s\n",
      "120:\tlearn: 0.9444444\ttest: 0.7950139\tbest: 0.7950139 (110)\ttotal: 4.71s\tremaining: 14.8s\n",
      "121:\tlearn: 0.9437500\ttest: 0.7950139\tbest: 0.7950139 (110)\ttotal: 4.75s\tremaining: 14.7s\n",
      "122:\tlearn: 0.9437500\ttest: 0.7950139\tbest: 0.7950139 (110)\ttotal: 4.79s\tremaining: 14.7s\n",
      "123:\tlearn: 0.9437500\ttest: 0.7950139\tbest: 0.7950139 (110)\ttotal: 4.83s\tremaining: 14.6s\n",
      "124:\tlearn: 0.9451389\ttest: 0.7922438\tbest: 0.7950139 (110)\ttotal: 4.86s\tremaining: 14.6s\n",
      "125:\tlearn: 0.9444444\ttest: 0.7922438\tbest: 0.7950139 (110)\ttotal: 4.9s\tremaining: 14.5s\n",
      "126:\tlearn: 0.9437500\ttest: 0.7922438\tbest: 0.7950139 (110)\ttotal: 4.94s\tremaining: 14.5s\n",
      "127:\tlearn: 0.9444444\ttest: 0.7922438\tbest: 0.7950139 (110)\ttotal: 4.98s\tremaining: 14.5s\n",
      "128:\tlearn: 0.9451389\ttest: 0.7950139\tbest: 0.7950139 (110)\ttotal: 5.02s\tremaining: 14.4s\n",
      "129:\tlearn: 0.9472222\ttest: 0.7950139\tbest: 0.7950139 (110)\ttotal: 5.05s\tremaining: 14.4s\n",
      "130:\tlearn: 0.9486111\ttest: 0.7950139\tbest: 0.7950139 (110)\ttotal: 5.09s\tremaining: 14.3s\n",
      "131:\tlearn: 0.9486111\ttest: 0.7950139\tbest: 0.7950139 (110)\ttotal: 5.13s\tremaining: 14.3s\n",
      "132:\tlearn: 0.9486111\ttest: 0.7950139\tbest: 0.7950139 (110)\ttotal: 5.17s\tremaining: 14.3s\n",
      "133:\tlearn: 0.9486111\ttest: 0.7922438\tbest: 0.7950139 (110)\ttotal: 5.2s\tremaining: 14.2s\n",
      "134:\tlearn: 0.9486111\ttest: 0.7922438\tbest: 0.7950139 (110)\ttotal: 5.24s\tremaining: 14.2s\n",
      "135:\tlearn: 0.9486111\ttest: 0.7922438\tbest: 0.7950139 (110)\ttotal: 5.28s\tremaining: 14.1s\n",
      "136:\tlearn: 0.9493056\ttest: 0.7922438\tbest: 0.7950139 (110)\ttotal: 5.31s\tremaining: 14.1s\n",
      "137:\tlearn: 0.9493056\ttest: 0.7922438\tbest: 0.7950139 (110)\ttotal: 5.35s\tremaining: 14s\n",
      "138:\tlearn: 0.9513889\ttest: 0.7922438\tbest: 0.7950139 (110)\ttotal: 5.39s\tremaining: 14s\n",
      "139:\tlearn: 0.9534722\ttest: 0.7922438\tbest: 0.7950139 (110)\ttotal: 5.43s\tremaining: 14s\n",
      "140:\tlearn: 0.9527778\ttest: 0.7922438\tbest: 0.7950139 (110)\ttotal: 5.47s\tremaining: 13.9s\n",
      "141:\tlearn: 0.9548611\ttest: 0.7922438\tbest: 0.7950139 (110)\ttotal: 5.51s\tremaining: 13.9s\n",
      "142:\tlearn: 0.9548611\ttest: 0.7977839\tbest: 0.7977839 (142)\ttotal: 5.55s\tremaining: 13.9s\n",
      "143:\tlearn: 0.9555556\ttest: 0.7977839\tbest: 0.7977839 (142)\ttotal: 5.59s\tremaining: 13.8s\n",
      "144:\tlearn: 0.9555556\ttest: 0.7977839\tbest: 0.7977839 (142)\ttotal: 5.64s\tremaining: 13.8s\n",
      "145:\tlearn: 0.9548611\ttest: 0.7977839\tbest: 0.7977839 (142)\ttotal: 5.67s\tremaining: 13.8s\n",
      "146:\tlearn: 0.9548611\ttest: 0.7977839\tbest: 0.7977839 (142)\ttotal: 5.71s\tremaining: 13.7s\n",
      "147:\tlearn: 0.9555556\ttest: 0.7950139\tbest: 0.7977839 (142)\ttotal: 5.75s\tremaining: 13.7s\n",
      "148:\tlearn: 0.9569444\ttest: 0.7977839\tbest: 0.7977839 (142)\ttotal: 5.79s\tremaining: 13.6s\n",
      "149:\tlearn: 0.9569444\ttest: 0.7977839\tbest: 0.7977839 (142)\ttotal: 5.83s\tremaining: 13.6s\n",
      "150:\tlearn: 0.9569444\ttest: 0.7977839\tbest: 0.7977839 (142)\ttotal: 5.87s\tremaining: 13.6s\n",
      "151:\tlearn: 0.9569444\ttest: 0.8005540\tbest: 0.8005540 (151)\ttotal: 5.91s\tremaining: 13.5s\n",
      "152:\tlearn: 0.9569444\ttest: 0.8005540\tbest: 0.8005540 (151)\ttotal: 5.95s\tremaining: 13.5s\n",
      "153:\tlearn: 0.9576389\ttest: 0.8005540\tbest: 0.8005540 (151)\ttotal: 5.99s\tremaining: 13.5s\n",
      "154:\tlearn: 0.9583333\ttest: 0.8005540\tbest: 0.8005540 (151)\ttotal: 6.02s\tremaining: 13.4s\n",
      "155:\tlearn: 0.9583333\ttest: 0.8060942\tbest: 0.8060942 (155)\ttotal: 6.06s\tremaining: 13.4s\n",
      "156:\tlearn: 0.9583333\ttest: 0.8033241\tbest: 0.8060942 (155)\ttotal: 6.1s\tremaining: 13.3s\n",
      "157:\tlearn: 0.9590278\ttest: 0.8033241\tbest: 0.8060942 (155)\ttotal: 6.14s\tremaining: 13.3s\n",
      "158:\tlearn: 0.9590278\ttest: 0.8033241\tbest: 0.8060942 (155)\ttotal: 6.18s\tremaining: 13.2s\n",
      "159:\tlearn: 0.9590278\ttest: 0.8033241\tbest: 0.8060942 (155)\ttotal: 6.21s\tremaining: 13.2s\n",
      "160:\tlearn: 0.9590278\ttest: 0.8033241\tbest: 0.8060942 (155)\ttotal: 6.25s\tremaining: 13.2s\n",
      "161:\tlearn: 0.9590278\ttest: 0.8033241\tbest: 0.8060942 (155)\ttotal: 6.29s\tremaining: 13.1s\n",
      "162:\tlearn: 0.9590278\ttest: 0.8033241\tbest: 0.8060942 (155)\ttotal: 6.33s\tremaining: 13.1s\n",
      "163:\tlearn: 0.9597222\ttest: 0.8005540\tbest: 0.8060942 (155)\ttotal: 6.37s\tremaining: 13.1s\n",
      "164:\tlearn: 0.9597222\ttest: 0.8005540\tbest: 0.8060942 (155)\ttotal: 6.41s\tremaining: 13s\n",
      "165:\tlearn: 0.9597222\ttest: 0.8005540\tbest: 0.8060942 (155)\ttotal: 6.45s\tremaining: 13s\n",
      "166:\tlearn: 0.9597222\ttest: 0.8033241\tbest: 0.8060942 (155)\ttotal: 6.49s\tremaining: 12.9s\n",
      "167:\tlearn: 0.9597222\ttest: 0.8033241\tbest: 0.8060942 (155)\ttotal: 6.53s\tremaining: 12.9s\n",
      "168:\tlearn: 0.9604167\ttest: 0.8033241\tbest: 0.8060942 (155)\ttotal: 6.57s\tremaining: 12.9s\n",
      "169:\tlearn: 0.9597222\ttest: 0.8033241\tbest: 0.8060942 (155)\ttotal: 6.61s\tremaining: 12.8s\n",
      "170:\tlearn: 0.9597222\ttest: 0.8033241\tbest: 0.8060942 (155)\ttotal: 6.64s\tremaining: 12.8s\n",
      "171:\tlearn: 0.9604167\ttest: 0.8033241\tbest: 0.8060942 (155)\ttotal: 6.68s\tremaining: 12.7s\n",
      "172:\tlearn: 0.9604167\ttest: 0.8033241\tbest: 0.8060942 (155)\ttotal: 6.72s\tremaining: 12.7s\n",
      "173:\tlearn: 0.9604167\ttest: 0.8033241\tbest: 0.8060942 (155)\ttotal: 6.76s\tremaining: 12.7s\n",
      "174:\tlearn: 0.9604167\ttest: 0.8033241\tbest: 0.8060942 (155)\ttotal: 6.8s\tremaining: 12.6s\n",
      "175:\tlearn: 0.9604167\ttest: 0.8060942\tbest: 0.8060942 (155)\ttotal: 6.84s\tremaining: 12.6s\n",
      "176:\tlearn: 0.9604167\ttest: 0.8033241\tbest: 0.8060942 (155)\ttotal: 6.88s\tremaining: 12.5s\n",
      "177:\tlearn: 0.9618056\ttest: 0.8088643\tbest: 0.8088643 (177)\ttotal: 6.91s\tremaining: 12.5s\n",
      "178:\tlearn: 0.9618056\ttest: 0.8088643\tbest: 0.8088643 (177)\ttotal: 6.95s\tremaining: 12.5s\n",
      "179:\tlearn: 0.9625000\ttest: 0.8088643\tbest: 0.8088643 (177)\ttotal: 6.99s\tremaining: 12.4s\n",
      "180:\tlearn: 0.9638889\ttest: 0.8088643\tbest: 0.8088643 (177)\ttotal: 7.03s\tremaining: 12.4s\n",
      "181:\tlearn: 0.9631944\ttest: 0.8060942\tbest: 0.8088643 (177)\ttotal: 7.07s\tremaining: 12.3s\n",
      "182:\tlearn: 0.9631944\ttest: 0.8060942\tbest: 0.8088643 (177)\ttotal: 7.11s\tremaining: 12.3s\n",
      "183:\tlearn: 0.9631944\ttest: 0.8060942\tbest: 0.8088643 (177)\ttotal: 7.14s\tremaining: 12.3s\n",
      "184:\tlearn: 0.9638889\ttest: 0.8060942\tbest: 0.8088643 (177)\ttotal: 7.18s\tremaining: 12.2s\n",
      "185:\tlearn: 0.9638889\ttest: 0.8060942\tbest: 0.8088643 (177)\ttotal: 7.22s\tremaining: 12.2s\n",
      "186:\tlearn: 0.9638889\ttest: 0.8060942\tbest: 0.8088643 (177)\ttotal: 7.26s\tremaining: 12.2s\n",
      "187:\tlearn: 0.9638889\ttest: 0.8033241\tbest: 0.8088643 (177)\ttotal: 7.3s\tremaining: 12.1s\n",
      "188:\tlearn: 0.9652778\ttest: 0.8033241\tbest: 0.8088643 (177)\ttotal: 7.34s\tremaining: 12.1s\n",
      "189:\tlearn: 0.9645833\ttest: 0.8033241\tbest: 0.8088643 (177)\ttotal: 7.38s\tremaining: 12s\n",
      "190:\tlearn: 0.9645833\ttest: 0.8005540\tbest: 0.8088643 (177)\ttotal: 7.42s\tremaining: 12s\n",
      "191:\tlearn: 0.9659722\ttest: 0.8005540\tbest: 0.8088643 (177)\ttotal: 7.45s\tremaining: 12s\n",
      "192:\tlearn: 0.9666667\ttest: 0.8005540\tbest: 0.8088643 (177)\ttotal: 7.49s\tremaining: 11.9s\n",
      "193:\tlearn: 0.9666667\ttest: 0.7977839\tbest: 0.8088643 (177)\ttotal: 7.53s\tremaining: 11.9s\n",
      "194:\tlearn: 0.9666667\ttest: 0.7977839\tbest: 0.8088643 (177)\ttotal: 7.57s\tremaining: 11.8s\n",
      "195:\tlearn: 0.9666667\ttest: 0.8005540\tbest: 0.8088643 (177)\ttotal: 7.61s\tremaining: 11.8s\n",
      "196:\tlearn: 0.9666667\ttest: 0.8005540\tbest: 0.8088643 (177)\ttotal: 7.65s\tremaining: 11.8s\n",
      "197:\tlearn: 0.9666667\ttest: 0.8005540\tbest: 0.8088643 (177)\ttotal: 7.68s\tremaining: 11.7s\n",
      "198:\tlearn: 0.9673611\ttest: 0.8005540\tbest: 0.8088643 (177)\ttotal: 7.72s\tremaining: 11.7s\n",
      "199:\tlearn: 0.9673611\ttest: 0.8005540\tbest: 0.8088643 (177)\ttotal: 7.76s\tremaining: 11.6s\n",
      "200:\tlearn: 0.9680556\ttest: 0.8005540\tbest: 0.8088643 (177)\ttotal: 7.8s\tremaining: 11.6s\n",
      "201:\tlearn: 0.9680556\ttest: 0.8005540\tbest: 0.8088643 (177)\ttotal: 7.84s\tremaining: 11.6s\n",
      "202:\tlearn: 0.9680556\ttest: 0.7950139\tbest: 0.8088643 (177)\ttotal: 7.88s\tremaining: 11.5s\n",
      "203:\tlearn: 0.9687500\ttest: 0.7977839\tbest: 0.8088643 (177)\ttotal: 7.92s\tremaining: 11.5s\n",
      "204:\tlearn: 0.9694444\ttest: 0.8005540\tbest: 0.8088643 (177)\ttotal: 7.95s\tremaining: 11.4s\n",
      "205:\tlearn: 0.9694444\ttest: 0.8005540\tbest: 0.8088643 (177)\ttotal: 7.99s\tremaining: 11.4s\n",
      "206:\tlearn: 0.9694444\ttest: 0.8005540\tbest: 0.8088643 (177)\ttotal: 8.03s\tremaining: 11.4s\n",
      "207:\tlearn: 0.9694444\ttest: 0.8005540\tbest: 0.8088643 (177)\ttotal: 8.07s\tremaining: 11.3s\n",
      "208:\tlearn: 0.9694444\ttest: 0.8005540\tbest: 0.8088643 (177)\ttotal: 8.11s\tremaining: 11.3s\n",
      "209:\tlearn: 0.9701389\ttest: 0.8033241\tbest: 0.8088643 (177)\ttotal: 8.15s\tremaining: 11.3s\n",
      "210:\tlearn: 0.9701389\ttest: 0.8033241\tbest: 0.8088643 (177)\ttotal: 8.19s\tremaining: 11.2s\n",
      "211:\tlearn: 0.9694444\ttest: 0.8033241\tbest: 0.8088643 (177)\ttotal: 8.22s\tremaining: 11.2s\n",
      "212:\tlearn: 0.9694444\ttest: 0.8033241\tbest: 0.8088643 (177)\ttotal: 8.26s\tremaining: 11.1s\n",
      "213:\tlearn: 0.9694444\ttest: 0.8033241\tbest: 0.8088643 (177)\ttotal: 8.3s\tremaining: 11.1s\n",
      "214:\tlearn: 0.9694444\ttest: 0.8033241\tbest: 0.8088643 (177)\ttotal: 8.34s\tremaining: 11.1s\n",
      "215:\tlearn: 0.9694444\ttest: 0.8033241\tbest: 0.8088643 (177)\ttotal: 8.38s\tremaining: 11s\n",
      "216:\tlearn: 0.9701389\ttest: 0.8005540\tbest: 0.8088643 (177)\ttotal: 8.42s\tremaining: 11s\n",
      "217:\tlearn: 0.9708333\ttest: 0.8005540\tbest: 0.8088643 (177)\ttotal: 8.46s\tremaining: 10.9s\n",
      "218:\tlearn: 0.9715278\ttest: 0.8005540\tbest: 0.8088643 (177)\ttotal: 8.5s\tremaining: 10.9s\n",
      "219:\tlearn: 0.9715278\ttest: 0.8005540\tbest: 0.8088643 (177)\ttotal: 8.54s\tremaining: 10.9s\n",
      "220:\tlearn: 0.9715278\ttest: 0.8033241\tbest: 0.8088643 (177)\ttotal: 8.57s\tremaining: 10.8s\n",
      "221:\tlearn: 0.9715278\ttest: 0.8060942\tbest: 0.8088643 (177)\ttotal: 8.62s\tremaining: 10.8s\n",
      "222:\tlearn: 0.9715278\ttest: 0.8060942\tbest: 0.8088643 (177)\ttotal: 8.65s\tremaining: 10.7s\n",
      "223:\tlearn: 0.9729167\ttest: 0.8033241\tbest: 0.8088643 (177)\ttotal: 8.69s\tremaining: 10.7s\n",
      "224:\tlearn: 0.9729167\ttest: 0.8033241\tbest: 0.8088643 (177)\ttotal: 8.73s\tremaining: 10.7s\n",
      "225:\tlearn: 0.9729167\ttest: 0.8033241\tbest: 0.8088643 (177)\ttotal: 8.77s\tremaining: 10.6s\n",
      "226:\tlearn: 0.9729167\ttest: 0.8033241\tbest: 0.8088643 (177)\ttotal: 8.81s\tremaining: 10.6s\n",
      "227:\tlearn: 0.9729167\ttest: 0.8033241\tbest: 0.8088643 (177)\ttotal: 8.85s\tremaining: 10.6s\n",
      "228:\tlearn: 0.9722222\ttest: 0.8033241\tbest: 0.8088643 (177)\ttotal: 8.89s\tremaining: 10.5s\n",
      "229:\tlearn: 0.9736111\ttest: 0.8033241\tbest: 0.8088643 (177)\ttotal: 8.93s\tremaining: 10.5s\n",
      "230:\tlearn: 0.9736111\ttest: 0.8033241\tbest: 0.8088643 (177)\ttotal: 8.97s\tremaining: 10.4s\n",
      "231:\tlearn: 0.9736111\ttest: 0.8033241\tbest: 0.8088643 (177)\ttotal: 9.01s\tremaining: 10.4s\n",
      "232:\tlearn: 0.9736111\ttest: 0.8033241\tbest: 0.8088643 (177)\ttotal: 9.05s\tremaining: 10.4s\n",
      "233:\tlearn: 0.9763889\ttest: 0.8033241\tbest: 0.8088643 (177)\ttotal: 9.09s\tremaining: 10.3s\n",
      "234:\tlearn: 0.9763889\ttest: 0.8033241\tbest: 0.8088643 (177)\ttotal: 9.13s\tremaining: 10.3s\n",
      "235:\tlearn: 0.9784722\ttest: 0.8033241\tbest: 0.8088643 (177)\ttotal: 9.17s\tremaining: 10.3s\n",
      "236:\tlearn: 0.9798611\ttest: 0.8060942\tbest: 0.8088643 (177)\ttotal: 9.22s\tremaining: 10.2s\n",
      "237:\tlearn: 0.9798611\ttest: 0.8060942\tbest: 0.8088643 (177)\ttotal: 9.26s\tremaining: 10.2s\n",
      "238:\tlearn: 0.9798611\ttest: 0.8060942\tbest: 0.8088643 (177)\ttotal: 9.3s\tremaining: 10.2s\n",
      "239:\tlearn: 0.9798611\ttest: 0.8060942\tbest: 0.8088643 (177)\ttotal: 9.35s\tremaining: 10.1s\n",
      "240:\tlearn: 0.9798611\ttest: 0.8060942\tbest: 0.8088643 (177)\ttotal: 9.4s\tremaining: 10.1s\n",
      "241:\tlearn: 0.9798611\ttest: 0.8060942\tbest: 0.8088643 (177)\ttotal: 9.44s\tremaining: 10.1s\n",
      "242:\tlearn: 0.9805556\ttest: 0.8060942\tbest: 0.8088643 (177)\ttotal: 9.48s\tremaining: 10s\n",
      "243:\tlearn: 0.9812500\ttest: 0.8033241\tbest: 0.8088643 (177)\ttotal: 9.53s\tremaining: 10s\n",
      "244:\tlearn: 0.9805556\ttest: 0.8033241\tbest: 0.8088643 (177)\ttotal: 9.57s\tremaining: 9.96s\n",
      "245:\tlearn: 0.9805556\ttest: 0.8033241\tbest: 0.8088643 (177)\ttotal: 9.61s\tremaining: 9.93s\n",
      "246:\tlearn: 0.9805556\ttest: 0.8033241\tbest: 0.8088643 (177)\ttotal: 9.66s\tremaining: 9.89s\n",
      "247:\tlearn: 0.9812500\ttest: 0.8033241\tbest: 0.8088643 (177)\ttotal: 9.7s\tremaining: 9.86s\n",
      "248:\tlearn: 0.9819444\ttest: 0.8033241\tbest: 0.8088643 (177)\ttotal: 9.74s\tremaining: 9.82s\n",
      "249:\tlearn: 0.9833333\ttest: 0.8033241\tbest: 0.8088643 (177)\ttotal: 9.78s\tremaining: 9.78s\n",
      "250:\tlearn: 0.9826389\ttest: 0.8033241\tbest: 0.8088643 (177)\ttotal: 9.82s\tremaining: 9.74s\n",
      "251:\tlearn: 0.9833333\ttest: 0.8033241\tbest: 0.8088643 (177)\ttotal: 9.86s\tremaining: 9.7s\n",
      "252:\tlearn: 0.9840278\ttest: 0.8033241\tbest: 0.8088643 (177)\ttotal: 9.9s\tremaining: 9.66s\n",
      "253:\tlearn: 0.9833333\ttest: 0.8033241\tbest: 0.8088643 (177)\ttotal: 9.94s\tremaining: 9.62s\n",
      "254:\tlearn: 0.9833333\ttest: 0.8033241\tbest: 0.8088643 (177)\ttotal: 9.97s\tremaining: 9.58s\n",
      "255:\tlearn: 0.9847222\ttest: 0.8033241\tbest: 0.8088643 (177)\ttotal: 10s\tremaining: 9.54s\n",
      "256:\tlearn: 0.9847222\ttest: 0.8033241\tbest: 0.8088643 (177)\ttotal: 10s\tremaining: 9.5s\n",
      "257:\tlearn: 0.9840278\ttest: 0.8033241\tbest: 0.8088643 (177)\ttotal: 10.1s\tremaining: 9.46s\n",
      "258:\tlearn: 0.9854167\ttest: 0.8033241\tbest: 0.8088643 (177)\ttotal: 10.1s\tremaining: 9.42s\n",
      "259:\tlearn: 0.9854167\ttest: 0.8033241\tbest: 0.8088643 (177)\ttotal: 10.2s\tremaining: 9.38s\n",
      "260:\tlearn: 0.9854167\ttest: 0.8033241\tbest: 0.8088643 (177)\ttotal: 10.2s\tremaining: 9.34s\n",
      "261:\tlearn: 0.9854167\ttest: 0.8033241\tbest: 0.8088643 (177)\ttotal: 10.2s\tremaining: 9.3s\n",
      "262:\tlearn: 0.9861111\ttest: 0.8033241\tbest: 0.8088643 (177)\ttotal: 10.3s\tremaining: 9.27s\n",
      "263:\tlearn: 0.9861111\ttest: 0.8033241\tbest: 0.8088643 (177)\ttotal: 10.3s\tremaining: 9.22s\n",
      "264:\tlearn: 0.9861111\ttest: 0.8033241\tbest: 0.8088643 (177)\ttotal: 10.4s\tremaining: 9.18s\n",
      "265:\tlearn: 0.9861111\ttest: 0.8033241\tbest: 0.8088643 (177)\ttotal: 10.4s\tremaining: 9.14s\n",
      "266:\tlearn: 0.9861111\ttest: 0.8033241\tbest: 0.8088643 (177)\ttotal: 10.4s\tremaining: 9.1s\n",
      "267:\tlearn: 0.9868056\ttest: 0.8033241\tbest: 0.8088643 (177)\ttotal: 10.5s\tremaining: 9.07s\n",
      "268:\tlearn: 0.9868056\ttest: 0.8033241\tbest: 0.8088643 (177)\ttotal: 10.5s\tremaining: 9.03s\n",
      "269:\tlearn: 0.9868056\ttest: 0.8033241\tbest: 0.8088643 (177)\ttotal: 10.5s\tremaining: 8.99s\n",
      "270:\tlearn: 0.9868056\ttest: 0.8033241\tbest: 0.8088643 (177)\ttotal: 10.6s\tremaining: 8.95s\n",
      "271:\tlearn: 0.9868056\ttest: 0.8033241\tbest: 0.8088643 (177)\ttotal: 10.6s\tremaining: 8.91s\n",
      "272:\tlearn: 0.9875000\ttest: 0.8033241\tbest: 0.8088643 (177)\ttotal: 10.7s\tremaining: 8.87s\n",
      "273:\tlearn: 0.9875000\ttest: 0.8033241\tbest: 0.8088643 (177)\ttotal: 10.7s\tremaining: 8.83s\n",
      "274:\tlearn: 0.9875000\ttest: 0.8033241\tbest: 0.8088643 (177)\ttotal: 10.7s\tremaining: 8.79s\n",
      "275:\tlearn: 0.9875000\ttest: 0.8033241\tbest: 0.8088643 (177)\ttotal: 10.8s\tremaining: 8.75s\n",
      "276:\tlearn: 0.9875000\ttest: 0.8033241\tbest: 0.8088643 (177)\ttotal: 10.8s\tremaining: 8.71s\n",
      "277:\tlearn: 0.9875000\ttest: 0.8033241\tbest: 0.8088643 (177)\ttotal: 10.9s\tremaining: 8.67s\n",
      "278:\tlearn: 0.9875000\ttest: 0.8060942\tbest: 0.8088643 (177)\ttotal: 10.9s\tremaining: 8.63s\n",
      "279:\tlearn: 0.9875000\ttest: 0.8060942\tbest: 0.8088643 (177)\ttotal: 10.9s\tremaining: 8.6s\n",
      "280:\tlearn: 0.9875000\ttest: 0.8060942\tbest: 0.8088643 (177)\ttotal: 11s\tremaining: 8.56s\n",
      "281:\tlearn: 0.9875000\ttest: 0.8033241\tbest: 0.8088643 (177)\ttotal: 11s\tremaining: 8.53s\n",
      "282:\tlearn: 0.9881944\ttest: 0.8033241\tbest: 0.8088643 (177)\ttotal: 11.1s\tremaining: 8.49s\n",
      "283:\tlearn: 0.9888889\ttest: 0.8033241\tbest: 0.8088643 (177)\ttotal: 11.1s\tremaining: 8.45s\n",
      "284:\tlearn: 0.9888889\ttest: 0.8033241\tbest: 0.8088643 (177)\ttotal: 11.1s\tremaining: 8.41s\n",
      "285:\tlearn: 0.9888889\ttest: 0.8033241\tbest: 0.8088643 (177)\ttotal: 11.2s\tremaining: 8.37s\n",
      "286:\tlearn: 0.9888889\ttest: 0.8033241\tbest: 0.8088643 (177)\ttotal: 11.2s\tremaining: 8.33s\n",
      "287:\tlearn: 0.9888889\ttest: 0.8033241\tbest: 0.8088643 (177)\ttotal: 11.3s\tremaining: 8.29s\n",
      "288:\tlearn: 0.9888889\ttest: 0.8033241\tbest: 0.8088643 (177)\ttotal: 11.3s\tremaining: 8.25s\n",
      "289:\tlearn: 0.9888889\ttest: 0.8033241\tbest: 0.8088643 (177)\ttotal: 11.3s\tremaining: 8.21s\n",
      "290:\tlearn: 0.9888889\ttest: 0.8033241\tbest: 0.8088643 (177)\ttotal: 11.4s\tremaining: 8.17s\n",
      "291:\tlearn: 0.9888889\ttest: 0.8033241\tbest: 0.8088643 (177)\ttotal: 11.4s\tremaining: 8.13s\n",
      "292:\tlearn: 0.9902778\ttest: 0.8033241\tbest: 0.8088643 (177)\ttotal: 11.5s\tremaining: 8.1s\n",
      "293:\tlearn: 0.9902778\ttest: 0.8033241\tbest: 0.8088643 (177)\ttotal: 11.5s\tremaining: 8.06s\n",
      "294:\tlearn: 0.9902778\ttest: 0.8033241\tbest: 0.8088643 (177)\ttotal: 11.6s\tremaining: 8.03s\n",
      "295:\tlearn: 0.9902778\ttest: 0.8033241\tbest: 0.8088643 (177)\ttotal: 11.6s\tremaining: 7.99s\n",
      "296:\tlearn: 0.9902778\ttest: 0.8033241\tbest: 0.8088643 (177)\ttotal: 11.6s\tremaining: 7.95s\n",
      "297:\tlearn: 0.9902778\ttest: 0.8033241\tbest: 0.8088643 (177)\ttotal: 11.7s\tremaining: 7.91s\n",
      "298:\tlearn: 0.9902778\ttest: 0.8033241\tbest: 0.8088643 (177)\ttotal: 11.7s\tremaining: 7.87s\n",
      "299:\tlearn: 0.9902778\ttest: 0.8033241\tbest: 0.8088643 (177)\ttotal: 11.7s\tremaining: 7.83s\n",
      "300:\tlearn: 0.9902778\ttest: 0.8033241\tbest: 0.8088643 (177)\ttotal: 11.8s\tremaining: 7.79s\n",
      "301:\tlearn: 0.9902778\ttest: 0.8033241\tbest: 0.8088643 (177)\ttotal: 11.8s\tremaining: 7.75s\n",
      "302:\tlearn: 0.9902778\ttest: 0.8033241\tbest: 0.8088643 (177)\ttotal: 11.9s\tremaining: 7.71s\n",
      "303:\tlearn: 0.9902778\ttest: 0.8033241\tbest: 0.8088643 (177)\ttotal: 11.9s\tremaining: 7.67s\n",
      "304:\tlearn: 0.9902778\ttest: 0.8060942\tbest: 0.8088643 (177)\ttotal: 11.9s\tremaining: 7.63s\n",
      "305:\tlearn: 0.9902778\ttest: 0.8060942\tbest: 0.8088643 (177)\ttotal: 12s\tremaining: 7.59s\n",
      "306:\tlearn: 0.9909722\ttest: 0.8060942\tbest: 0.8088643 (177)\ttotal: 12s\tremaining: 7.55s\n",
      "307:\tlearn: 0.9909722\ttest: 0.8060942\tbest: 0.8088643 (177)\ttotal: 12.1s\tremaining: 7.51s\n",
      "308:\tlearn: 0.9909722\ttest: 0.8060942\tbest: 0.8088643 (177)\ttotal: 12.1s\tremaining: 7.47s\n",
      "309:\tlearn: 0.9909722\ttest: 0.8060942\tbest: 0.8088643 (177)\ttotal: 12.1s\tremaining: 7.43s\n",
      "310:\tlearn: 0.9909722\ttest: 0.8060942\tbest: 0.8088643 (177)\ttotal: 12.2s\tremaining: 7.39s\n",
      "311:\tlearn: 0.9909722\ttest: 0.8060942\tbest: 0.8088643 (177)\ttotal: 12.2s\tremaining: 7.36s\n",
      "312:\tlearn: 0.9909722\ttest: 0.8060942\tbest: 0.8088643 (177)\ttotal: 12.2s\tremaining: 7.31s\n",
      "313:\tlearn: 0.9909722\ttest: 0.8060942\tbest: 0.8088643 (177)\ttotal: 12.3s\tremaining: 7.28s\n",
      "314:\tlearn: 0.9909722\ttest: 0.8060942\tbest: 0.8088643 (177)\ttotal: 12.3s\tremaining: 7.24s\n",
      "315:\tlearn: 0.9916667\ttest: 0.8060942\tbest: 0.8088643 (177)\ttotal: 12.4s\tremaining: 7.2s\n",
      "316:\tlearn: 0.9916667\ttest: 0.8060942\tbest: 0.8088643 (177)\ttotal: 12.4s\tremaining: 7.16s\n",
      "317:\tlearn: 0.9916667\ttest: 0.8060942\tbest: 0.8088643 (177)\ttotal: 12.4s\tremaining: 7.12s\n",
      "318:\tlearn: 0.9916667\ttest: 0.8088643\tbest: 0.8088643 (177)\ttotal: 12.5s\tremaining: 7.08s\n",
      "319:\tlearn: 0.9916667\ttest: 0.8088643\tbest: 0.8088643 (177)\ttotal: 12.5s\tremaining: 7.04s\n",
      "320:\tlearn: 0.9923611\ttest: 0.8116343\tbest: 0.8116343 (320)\ttotal: 12.6s\tremaining: 7s\n",
      "321:\tlearn: 0.9937500\ttest: 0.8116343\tbest: 0.8116343 (320)\ttotal: 12.6s\tremaining: 6.96s\n",
      "322:\tlearn: 0.9944444\ttest: 0.8116343\tbest: 0.8116343 (320)\ttotal: 12.6s\tremaining: 6.93s\n",
      "323:\tlearn: 0.9944444\ttest: 0.8116343\tbest: 0.8116343 (320)\ttotal: 12.7s\tremaining: 6.89s\n",
      "324:\tlearn: 0.9944444\ttest: 0.8116343\tbest: 0.8116343 (320)\ttotal: 12.7s\tremaining: 6.85s\n",
      "325:\tlearn: 0.9951389\ttest: 0.8088643\tbest: 0.8116343 (320)\ttotal: 12.8s\tremaining: 6.81s\n",
      "326:\tlearn: 0.9958333\ttest: 0.8088643\tbest: 0.8116343 (320)\ttotal: 12.8s\tremaining: 6.77s\n",
      "327:\tlearn: 0.9965278\ttest: 0.8088643\tbest: 0.8116343 (320)\ttotal: 12.8s\tremaining: 6.73s\n",
      "328:\tlearn: 0.9958333\ttest: 0.8088643\tbest: 0.8116343 (320)\ttotal: 12.9s\tremaining: 6.69s\n",
      "329:\tlearn: 0.9958333\ttest: 0.8088643\tbest: 0.8116343 (320)\ttotal: 12.9s\tremaining: 6.65s\n",
      "330:\tlearn: 0.9958333\ttest: 0.8088643\tbest: 0.8116343 (320)\ttotal: 12.9s\tremaining: 6.61s\n",
      "331:\tlearn: 0.9951389\ttest: 0.8088643\tbest: 0.8116343 (320)\ttotal: 13s\tremaining: 6.57s\n",
      "332:\tlearn: 0.9958333\ttest: 0.8088643\tbest: 0.8116343 (320)\ttotal: 13s\tremaining: 6.54s\n",
      "333:\tlearn: 0.9958333\ttest: 0.8088643\tbest: 0.8116343 (320)\ttotal: 13.1s\tremaining: 6.5s\n",
      "334:\tlearn: 0.9958333\ttest: 0.8088643\tbest: 0.8116343 (320)\ttotal: 13.1s\tremaining: 6.46s\n",
      "335:\tlearn: 0.9958333\ttest: 0.8088643\tbest: 0.8116343 (320)\ttotal: 13.1s\tremaining: 6.42s\n",
      "336:\tlearn: 0.9958333\ttest: 0.8088643\tbest: 0.8116343 (320)\ttotal: 13.2s\tremaining: 6.38s\n",
      "337:\tlearn: 0.9965278\ttest: 0.8088643\tbest: 0.8116343 (320)\ttotal: 13.2s\tremaining: 6.34s\n",
      "338:\tlearn: 0.9965278\ttest: 0.8088643\tbest: 0.8116343 (320)\ttotal: 13.3s\tremaining: 6.3s\n",
      "339:\tlearn: 0.9965278\ttest: 0.8088643\tbest: 0.8116343 (320)\ttotal: 13.3s\tremaining: 6.26s\n",
      "340:\tlearn: 0.9965278\ttest: 0.8088643\tbest: 0.8116343 (320)\ttotal: 13.3s\tremaining: 6.22s\n",
      "341:\tlearn: 0.9965278\ttest: 0.8088643\tbest: 0.8116343 (320)\ttotal: 13.4s\tremaining: 6.18s\n",
      "342:\tlearn: 0.9965278\ttest: 0.8088643\tbest: 0.8116343 (320)\ttotal: 13.4s\tremaining: 6.14s\n",
      "343:\tlearn: 0.9965278\ttest: 0.8088643\tbest: 0.8116343 (320)\ttotal: 13.4s\tremaining: 6.1s\n",
      "344:\tlearn: 0.9965278\ttest: 0.8088643\tbest: 0.8116343 (320)\ttotal: 13.5s\tremaining: 6.06s\n",
      "345:\tlearn: 0.9958333\ttest: 0.8088643\tbest: 0.8116343 (320)\ttotal: 13.5s\tremaining: 6.02s\n",
      "346:\tlearn: 0.9958333\ttest: 0.8088643\tbest: 0.8116343 (320)\ttotal: 13.6s\tremaining: 5.98s\n",
      "347:\tlearn: 0.9958333\ttest: 0.8088643\tbest: 0.8116343 (320)\ttotal: 13.6s\tremaining: 5.94s\n",
      "348:\tlearn: 0.9958333\ttest: 0.8088643\tbest: 0.8116343 (320)\ttotal: 13.6s\tremaining: 5.9s\n",
      "349:\tlearn: 0.9965278\ttest: 0.8088643\tbest: 0.8116343 (320)\ttotal: 13.7s\tremaining: 5.86s\n",
      "350:\tlearn: 0.9965278\ttest: 0.8088643\tbest: 0.8116343 (320)\ttotal: 13.7s\tremaining: 5.82s\n",
      "351:\tlearn: 0.9965278\ttest: 0.8088643\tbest: 0.8116343 (320)\ttotal: 13.8s\tremaining: 5.78s\n",
      "352:\tlearn: 0.9965278\ttest: 0.8088643\tbest: 0.8116343 (320)\ttotal: 13.8s\tremaining: 5.74s\n",
      "353:\tlearn: 0.9965278\ttest: 0.8088643\tbest: 0.8116343 (320)\ttotal: 13.8s\tremaining: 5.71s\n",
      "354:\tlearn: 0.9965278\ttest: 0.8088643\tbest: 0.8116343 (320)\ttotal: 13.9s\tremaining: 5.67s\n",
      "355:\tlearn: 0.9965278\ttest: 0.8088643\tbest: 0.8116343 (320)\ttotal: 13.9s\tremaining: 5.63s\n",
      "356:\tlearn: 0.9965278\ttest: 0.8088643\tbest: 0.8116343 (320)\ttotal: 13.9s\tremaining: 5.59s\n",
      "357:\tlearn: 0.9965278\ttest: 0.8088643\tbest: 0.8116343 (320)\ttotal: 14s\tremaining: 5.55s\n",
      "358:\tlearn: 0.9965278\ttest: 0.8088643\tbest: 0.8116343 (320)\ttotal: 14s\tremaining: 5.51s\n",
      "359:\tlearn: 0.9965278\ttest: 0.8088643\tbest: 0.8116343 (320)\ttotal: 14.1s\tremaining: 5.47s\n",
      "360:\tlearn: 0.9965278\ttest: 0.8088643\tbest: 0.8116343 (320)\ttotal: 14.1s\tremaining: 5.43s\n",
      "361:\tlearn: 0.9965278\ttest: 0.8088643\tbest: 0.8116343 (320)\ttotal: 14.1s\tremaining: 5.39s\n",
      "362:\tlearn: 0.9965278\ttest: 0.8116343\tbest: 0.8116343 (320)\ttotal: 14.2s\tremaining: 5.35s\n",
      "363:\tlearn: 0.9972222\ttest: 0.8116343\tbest: 0.8116343 (320)\ttotal: 14.2s\tremaining: 5.31s\n",
      "364:\tlearn: 0.9972222\ttest: 0.8116343\tbest: 0.8116343 (320)\ttotal: 14.3s\tremaining: 5.27s\n",
      "365:\tlearn: 0.9972222\ttest: 0.8116343\tbest: 0.8116343 (320)\ttotal: 14.3s\tremaining: 5.23s\n",
      "366:\tlearn: 0.9972222\ttest: 0.8116343\tbest: 0.8116343 (320)\ttotal: 14.3s\tremaining: 5.2s\n",
      "367:\tlearn: 0.9972222\ttest: 0.8116343\tbest: 0.8116343 (320)\ttotal: 14.4s\tremaining: 5.16s\n",
      "368:\tlearn: 0.9972222\ttest: 0.8116343\tbest: 0.8116343 (320)\ttotal: 14.4s\tremaining: 5.12s\n",
      "369:\tlearn: 0.9972222\ttest: 0.8116343\tbest: 0.8116343 (320)\ttotal: 14.4s\tremaining: 5.08s\n",
      "370:\tlearn: 0.9972222\ttest: 0.8116343\tbest: 0.8116343 (320)\ttotal: 14.5s\tremaining: 5.04s\n",
      "371:\tlearn: 0.9972222\ttest: 0.8088643\tbest: 0.8116343 (320)\ttotal: 14.5s\tremaining: 5s\n",
      "372:\tlearn: 0.9972222\ttest: 0.8088643\tbest: 0.8116343 (320)\ttotal: 14.6s\tremaining: 4.96s\n",
      "373:\tlearn: 0.9972222\ttest: 0.8088643\tbest: 0.8116343 (320)\ttotal: 14.6s\tremaining: 4.92s\n",
      "374:\tlearn: 0.9972222\ttest: 0.8088643\tbest: 0.8116343 (320)\ttotal: 14.7s\tremaining: 4.88s\n",
      "375:\tlearn: 0.9972222\ttest: 0.8088643\tbest: 0.8116343 (320)\ttotal: 14.7s\tremaining: 4.84s\n",
      "376:\tlearn: 0.9972222\ttest: 0.8088643\tbest: 0.8116343 (320)\ttotal: 14.7s\tremaining: 4.8s\n",
      "377:\tlearn: 0.9972222\ttest: 0.8088643\tbest: 0.8116343 (320)\ttotal: 14.8s\tremaining: 4.76s\n",
      "378:\tlearn: 0.9972222\ttest: 0.8088643\tbest: 0.8116343 (320)\ttotal: 14.8s\tremaining: 4.72s\n",
      "379:\tlearn: 0.9972222\ttest: 0.8088643\tbest: 0.8116343 (320)\ttotal: 14.8s\tremaining: 4.69s\n",
      "380:\tlearn: 0.9972222\ttest: 0.8116343\tbest: 0.8116343 (320)\ttotal: 14.9s\tremaining: 4.65s\n",
      "381:\tlearn: 0.9979167\ttest: 0.8116343\tbest: 0.8116343 (320)\ttotal: 14.9s\tremaining: 4.61s\n",
      "382:\tlearn: 0.9979167\ttest: 0.8116343\tbest: 0.8116343 (320)\ttotal: 15s\tremaining: 4.57s\n",
      "383:\tlearn: 0.9979167\ttest: 0.8116343\tbest: 0.8116343 (320)\ttotal: 15s\tremaining: 4.53s\n",
      "384:\tlearn: 0.9979167\ttest: 0.8116343\tbest: 0.8116343 (320)\ttotal: 15s\tremaining: 4.49s\n",
      "385:\tlearn: 0.9979167\ttest: 0.8116343\tbest: 0.8116343 (320)\ttotal: 15.1s\tremaining: 4.45s\n",
      "386:\tlearn: 0.9979167\ttest: 0.8088643\tbest: 0.8116343 (320)\ttotal: 15.1s\tremaining: 4.41s\n",
      "387:\tlearn: 0.9979167\ttest: 0.8116343\tbest: 0.8116343 (320)\ttotal: 15.1s\tremaining: 4.37s\n",
      "388:\tlearn: 0.9979167\ttest: 0.8116343\tbest: 0.8116343 (320)\ttotal: 15.2s\tremaining: 4.33s\n",
      "389:\tlearn: 0.9979167\ttest: 0.8116343\tbest: 0.8116343 (320)\ttotal: 15.2s\tremaining: 4.29s\n",
      "390:\tlearn: 0.9979167\ttest: 0.8116343\tbest: 0.8116343 (320)\ttotal: 15.3s\tremaining: 4.25s\n",
      "391:\tlearn: 0.9979167\ttest: 0.8116343\tbest: 0.8116343 (320)\ttotal: 15.3s\tremaining: 4.22s\n",
      "392:\tlearn: 0.9979167\ttest: 0.8116343\tbest: 0.8116343 (320)\ttotal: 15.3s\tremaining: 4.18s\n",
      "393:\tlearn: 0.9986111\ttest: 0.8116343\tbest: 0.8116343 (320)\ttotal: 15.4s\tremaining: 4.14s\n",
      "394:\tlearn: 0.9986111\ttest: 0.8116343\tbest: 0.8116343 (320)\ttotal: 15.4s\tremaining: 4.1s\n",
      "395:\tlearn: 0.9986111\ttest: 0.8116343\tbest: 0.8116343 (320)\ttotal: 15.5s\tremaining: 4.06s\n",
      "396:\tlearn: 0.9986111\ttest: 0.8116343\tbest: 0.8116343 (320)\ttotal: 15.5s\tremaining: 4.02s\n",
      "397:\tlearn: 0.9986111\ttest: 0.8116343\tbest: 0.8116343 (320)\ttotal: 15.5s\tremaining: 3.98s\n",
      "398:\tlearn: 0.9986111\ttest: 0.8116343\tbest: 0.8116343 (320)\ttotal: 15.6s\tremaining: 3.94s\n",
      "399:\tlearn: 0.9986111\ttest: 0.8116343\tbest: 0.8116343 (320)\ttotal: 15.6s\tremaining: 3.9s\n",
      "400:\tlearn: 0.9986111\ttest: 0.8116343\tbest: 0.8116343 (320)\ttotal: 15.7s\tremaining: 3.86s\n",
      "401:\tlearn: 0.9986111\ttest: 0.8116343\tbest: 0.8116343 (320)\ttotal: 15.7s\tremaining: 3.82s\n",
      "402:\tlearn: 0.9986111\ttest: 0.8116343\tbest: 0.8116343 (320)\ttotal: 15.7s\tremaining: 3.78s\n",
      "403:\tlearn: 0.9986111\ttest: 0.8116343\tbest: 0.8116343 (320)\ttotal: 15.8s\tremaining: 3.75s\n",
      "404:\tlearn: 0.9986111\ttest: 0.8116343\tbest: 0.8116343 (320)\ttotal: 15.8s\tremaining: 3.71s\n",
      "405:\tlearn: 0.9986111\ttest: 0.8116343\tbest: 0.8116343 (320)\ttotal: 15.8s\tremaining: 3.67s\n",
      "406:\tlearn: 0.9986111\ttest: 0.8116343\tbest: 0.8116343 (320)\ttotal: 15.9s\tremaining: 3.63s\n",
      "407:\tlearn: 0.9986111\ttest: 0.8116343\tbest: 0.8116343 (320)\ttotal: 15.9s\tremaining: 3.59s\n",
      "408:\tlearn: 0.9986111\ttest: 0.8116343\tbest: 0.8116343 (320)\ttotal: 16s\tremaining: 3.55s\n",
      "409:\tlearn: 0.9986111\ttest: 0.8116343\tbest: 0.8116343 (320)\ttotal: 16s\tremaining: 3.51s\n",
      "410:\tlearn: 0.9986111\ttest: 0.8116343\tbest: 0.8116343 (320)\ttotal: 16s\tremaining: 3.47s\n",
      "411:\tlearn: 0.9986111\ttest: 0.8116343\tbest: 0.8116343 (320)\ttotal: 16.1s\tremaining: 3.43s\n",
      "412:\tlearn: 0.9986111\ttest: 0.8116343\tbest: 0.8116343 (320)\ttotal: 16.1s\tremaining: 3.39s\n",
      "413:\tlearn: 0.9986111\ttest: 0.8116343\tbest: 0.8116343 (320)\ttotal: 16.2s\tremaining: 3.35s\n",
      "414:\tlearn: 0.9986111\ttest: 0.8116343\tbest: 0.8116343 (320)\ttotal: 16.2s\tremaining: 3.32s\n",
      "415:\tlearn: 0.9986111\ttest: 0.8116343\tbest: 0.8116343 (320)\ttotal: 16.2s\tremaining: 3.28s\n",
      "416:\tlearn: 0.9986111\ttest: 0.8116343\tbest: 0.8116343 (320)\ttotal: 16.3s\tremaining: 3.24s\n",
      "417:\tlearn: 0.9986111\ttest: 0.8116343\tbest: 0.8116343 (320)\ttotal: 16.3s\tremaining: 3.2s\n",
      "418:\tlearn: 0.9986111\ttest: 0.8116343\tbest: 0.8116343 (320)\ttotal: 16.3s\tremaining: 3.16s\n",
      "419:\tlearn: 0.9986111\ttest: 0.8116343\tbest: 0.8116343 (320)\ttotal: 16.4s\tremaining: 3.12s\n",
      "420:\tlearn: 0.9986111\ttest: 0.8060942\tbest: 0.8116343 (320)\ttotal: 16.4s\tremaining: 3.08s\n",
      "421:\tlearn: 0.9986111\ttest: 0.8060942\tbest: 0.8116343 (320)\ttotal: 16.5s\tremaining: 3.04s\n",
      "422:\tlearn: 0.9986111\ttest: 0.8060942\tbest: 0.8116343 (320)\ttotal: 16.5s\tremaining: 3s\n",
      "423:\tlearn: 0.9986111\ttest: 0.8060942\tbest: 0.8116343 (320)\ttotal: 16.5s\tremaining: 2.96s\n",
      "424:\tlearn: 0.9986111\ttest: 0.8060942\tbest: 0.8116343 (320)\ttotal: 16.6s\tremaining: 2.92s\n",
      "425:\tlearn: 0.9986111\ttest: 0.8060942\tbest: 0.8116343 (320)\ttotal: 16.6s\tremaining: 2.88s\n",
      "426:\tlearn: 0.9986111\ttest: 0.8060942\tbest: 0.8116343 (320)\ttotal: 16.6s\tremaining: 2.85s\n",
      "427:\tlearn: 0.9986111\ttest: 0.8060942\tbest: 0.8116343 (320)\ttotal: 16.7s\tremaining: 2.81s\n",
      "428:\tlearn: 0.9986111\ttest: 0.8060942\tbest: 0.8116343 (320)\ttotal: 16.7s\tremaining: 2.77s\n",
      "429:\tlearn: 0.9986111\ttest: 0.8060942\tbest: 0.8116343 (320)\ttotal: 16.8s\tremaining: 2.73s\n",
      "430:\tlearn: 0.9986111\ttest: 0.8060942\tbest: 0.8116343 (320)\ttotal: 16.8s\tremaining: 2.69s\n",
      "431:\tlearn: 1.0000000\ttest: 0.8060942\tbest: 0.8116343 (320)\ttotal: 16.8s\tremaining: 2.65s\n",
      "432:\tlearn: 1.0000000\ttest: 0.8060942\tbest: 0.8116343 (320)\ttotal: 16.9s\tremaining: 2.61s\n",
      "433:\tlearn: 1.0000000\ttest: 0.8060942\tbest: 0.8116343 (320)\ttotal: 16.9s\tremaining: 2.57s\n",
      "434:\tlearn: 1.0000000\ttest: 0.8060942\tbest: 0.8116343 (320)\ttotal: 17s\tremaining: 2.53s\n",
      "435:\tlearn: 1.0000000\ttest: 0.8088643\tbest: 0.8116343 (320)\ttotal: 17s\tremaining: 2.49s\n",
      "436:\tlearn: 1.0000000\ttest: 0.8088643\tbest: 0.8116343 (320)\ttotal: 17s\tremaining: 2.46s\n",
      "437:\tlearn: 1.0000000\ttest: 0.8088643\tbest: 0.8116343 (320)\ttotal: 17.1s\tremaining: 2.42s\n",
      "438:\tlearn: 1.0000000\ttest: 0.8088643\tbest: 0.8116343 (320)\ttotal: 17.1s\tremaining: 2.38s\n",
      "439:\tlearn: 1.0000000\ttest: 0.8088643\tbest: 0.8116343 (320)\ttotal: 17.1s\tremaining: 2.34s\n",
      "440:\tlearn: 1.0000000\ttest: 0.8088643\tbest: 0.8116343 (320)\ttotal: 17.2s\tremaining: 2.3s\n",
      "441:\tlearn: 1.0000000\ttest: 0.8088643\tbest: 0.8116343 (320)\ttotal: 17.2s\tremaining: 2.26s\n",
      "442:\tlearn: 1.0000000\ttest: 0.8088643\tbest: 0.8116343 (320)\ttotal: 17.3s\tremaining: 2.22s\n",
      "443:\tlearn: 1.0000000\ttest: 0.8060942\tbest: 0.8116343 (320)\ttotal: 17.3s\tremaining: 2.18s\n",
      "444:\tlearn: 1.0000000\ttest: 0.8088643\tbest: 0.8116343 (320)\ttotal: 17.3s\tremaining: 2.14s\n",
      "445:\tlearn: 1.0000000\ttest: 0.8088643\tbest: 0.8116343 (320)\ttotal: 17.4s\tremaining: 2.1s\n",
      "446:\tlearn: 1.0000000\ttest: 0.8060942\tbest: 0.8116343 (320)\ttotal: 17.4s\tremaining: 2.06s\n",
      "447:\tlearn: 1.0000000\ttest: 0.8088643\tbest: 0.8116343 (320)\ttotal: 17.5s\tremaining: 2.03s\n",
      "448:\tlearn: 1.0000000\ttest: 0.8088643\tbest: 0.8116343 (320)\ttotal: 17.5s\tremaining: 1.99s\n",
      "449:\tlearn: 1.0000000\ttest: 0.8088643\tbest: 0.8116343 (320)\ttotal: 17.5s\tremaining: 1.95s\n",
      "450:\tlearn: 1.0000000\ttest: 0.8088643\tbest: 0.8116343 (320)\ttotal: 17.6s\tremaining: 1.91s\n",
      "451:\tlearn: 1.0000000\ttest: 0.8088643\tbest: 0.8116343 (320)\ttotal: 17.6s\tremaining: 1.87s\n",
      "452:\tlearn: 1.0000000\ttest: 0.8060942\tbest: 0.8116343 (320)\ttotal: 17.7s\tremaining: 1.83s\n",
      "453:\tlearn: 1.0000000\ttest: 0.8060942\tbest: 0.8116343 (320)\ttotal: 17.7s\tremaining: 1.79s\n",
      "454:\tlearn: 1.0000000\ttest: 0.8088643\tbest: 0.8116343 (320)\ttotal: 17.7s\tremaining: 1.75s\n",
      "455:\tlearn: 1.0000000\ttest: 0.8088643\tbest: 0.8116343 (320)\ttotal: 17.8s\tremaining: 1.71s\n",
      "456:\tlearn: 1.0000000\ttest: 0.8088643\tbest: 0.8116343 (320)\ttotal: 17.8s\tremaining: 1.68s\n",
      "457:\tlearn: 1.0000000\ttest: 0.8088643\tbest: 0.8116343 (320)\ttotal: 17.8s\tremaining: 1.64s\n",
      "458:\tlearn: 1.0000000\ttest: 0.8088643\tbest: 0.8116343 (320)\ttotal: 17.9s\tremaining: 1.6s\n",
      "459:\tlearn: 1.0000000\ttest: 0.8088643\tbest: 0.8116343 (320)\ttotal: 17.9s\tremaining: 1.56s\n",
      "460:\tlearn: 1.0000000\ttest: 0.8088643\tbest: 0.8116343 (320)\ttotal: 18s\tremaining: 1.52s\n",
      "461:\tlearn: 1.0000000\ttest: 0.8088643\tbest: 0.8116343 (320)\ttotal: 18s\tremaining: 1.48s\n",
      "462:\tlearn: 1.0000000\ttest: 0.8088643\tbest: 0.8116343 (320)\ttotal: 18s\tremaining: 1.44s\n",
      "463:\tlearn: 1.0000000\ttest: 0.8088643\tbest: 0.8116343 (320)\ttotal: 18.1s\tremaining: 1.4s\n",
      "464:\tlearn: 1.0000000\ttest: 0.8116343\tbest: 0.8116343 (320)\ttotal: 18.1s\tremaining: 1.36s\n",
      "465:\tlearn: 1.0000000\ttest: 0.8116343\tbest: 0.8116343 (320)\ttotal: 18.1s\tremaining: 1.32s\n",
      "466:\tlearn: 1.0000000\ttest: 0.8116343\tbest: 0.8116343 (320)\ttotal: 18.2s\tremaining: 1.28s\n",
      "467:\tlearn: 1.0000000\ttest: 0.8116343\tbest: 0.8116343 (320)\ttotal: 18.2s\tremaining: 1.25s\n",
      "468:\tlearn: 1.0000000\ttest: 0.8116343\tbest: 0.8116343 (320)\ttotal: 18.3s\tremaining: 1.21s\n",
      "469:\tlearn: 1.0000000\ttest: 0.8116343\tbest: 0.8116343 (320)\ttotal: 18.3s\tremaining: 1.17s\n",
      "470:\tlearn: 1.0000000\ttest: 0.8116343\tbest: 0.8116343 (320)\ttotal: 18.3s\tremaining: 1.13s\n",
      "471:\tlearn: 1.0000000\ttest: 0.8116343\tbest: 0.8116343 (320)\ttotal: 18.4s\tremaining: 1.09s\n",
      "472:\tlearn: 1.0000000\ttest: 0.8116343\tbest: 0.8116343 (320)\ttotal: 18.4s\tremaining: 1.05s\n",
      "473:\tlearn: 1.0000000\ttest: 0.8116343\tbest: 0.8116343 (320)\ttotal: 18.5s\tremaining: 1.01s\n",
      "474:\tlearn: 1.0000000\ttest: 0.8116343\tbest: 0.8116343 (320)\ttotal: 18.5s\tremaining: 973ms\n",
      "475:\tlearn: 1.0000000\ttest: 0.8116343\tbest: 0.8116343 (320)\ttotal: 18.5s\tremaining: 934ms\n",
      "476:\tlearn: 1.0000000\ttest: 0.8116343\tbest: 0.8116343 (320)\ttotal: 18.6s\tremaining: 895ms\n",
      "477:\tlearn: 1.0000000\ttest: 0.8116343\tbest: 0.8116343 (320)\ttotal: 18.6s\tremaining: 856ms\n",
      "478:\tlearn: 1.0000000\ttest: 0.8116343\tbest: 0.8116343 (320)\ttotal: 18.6s\tremaining: 817ms\n",
      "479:\tlearn: 1.0000000\ttest: 0.8116343\tbest: 0.8116343 (320)\ttotal: 18.7s\tremaining: 779ms\n",
      "480:\tlearn: 1.0000000\ttest: 0.8116343\tbest: 0.8116343 (320)\ttotal: 18.7s\tremaining: 740ms\n",
      "481:\tlearn: 1.0000000\ttest: 0.8116343\tbest: 0.8116343 (320)\ttotal: 18.8s\tremaining: 701ms\n",
      "482:\tlearn: 1.0000000\ttest: 0.8116343\tbest: 0.8116343 (320)\ttotal: 18.8s\tremaining: 662ms\n",
      "483:\tlearn: 1.0000000\ttest: 0.8116343\tbest: 0.8116343 (320)\ttotal: 18.8s\tremaining: 623ms\n",
      "484:\tlearn: 1.0000000\ttest: 0.8116343\tbest: 0.8116343 (320)\ttotal: 18.9s\tremaining: 584ms\n",
      "485:\tlearn: 1.0000000\ttest: 0.8116343\tbest: 0.8116343 (320)\ttotal: 18.9s\tremaining: 545ms\n",
      "486:\tlearn: 1.0000000\ttest: 0.8116343\tbest: 0.8116343 (320)\ttotal: 19s\tremaining: 506ms\n",
      "487:\tlearn: 1.0000000\ttest: 0.8116343\tbest: 0.8116343 (320)\ttotal: 19s\tremaining: 467ms\n",
      "488:\tlearn: 1.0000000\ttest: 0.8116343\tbest: 0.8116343 (320)\ttotal: 19s\tremaining: 428ms\n",
      "489:\tlearn: 1.0000000\ttest: 0.8116343\tbest: 0.8116343 (320)\ttotal: 19.1s\tremaining: 389ms\n",
      "490:\tlearn: 1.0000000\ttest: 0.8116343\tbest: 0.8116343 (320)\ttotal: 19.1s\tremaining: 351ms\n",
      "491:\tlearn: 1.0000000\ttest: 0.8116343\tbest: 0.8116343 (320)\ttotal: 19.2s\tremaining: 312ms\n",
      "492:\tlearn: 1.0000000\ttest: 0.8116343\tbest: 0.8116343 (320)\ttotal: 19.2s\tremaining: 273ms\n",
      "493:\tlearn: 1.0000000\ttest: 0.8116343\tbest: 0.8116343 (320)\ttotal: 19.2s\tremaining: 234ms\n",
      "494:\tlearn: 1.0000000\ttest: 0.8116343\tbest: 0.8116343 (320)\ttotal: 19.3s\tremaining: 195ms\n",
      "495:\tlearn: 1.0000000\ttest: 0.8116343\tbest: 0.8116343 (320)\ttotal: 19.3s\tremaining: 156ms\n",
      "496:\tlearn: 1.0000000\ttest: 0.8088643\tbest: 0.8116343 (320)\ttotal: 19.4s\tremaining: 117ms\n",
      "497:\tlearn: 1.0000000\ttest: 0.8116343\tbest: 0.8116343 (320)\ttotal: 19.4s\tremaining: 77.9ms\n",
      "498:\tlearn: 1.0000000\ttest: 0.8116343\tbest: 0.8116343 (320)\ttotal: 19.4s\tremaining: 39ms\n",
      "499:\tlearn: 1.0000000\ttest: 0.8116343\tbest: 0.8116343 (320)\ttotal: 19.5s\tremaining: 0us\n",
      "\n",
      "bestTest = 0.811634349\n",
      "bestIteration = 320\n",
      "\n",
      "Shrink model to first 321 iterations.\n"
     ]
    },
    {
     "data": {
      "text/plain": [
       "<catboost.core.CatBoostClassifier at 0x7fa14afbb640>"
      ]
     },
     "execution_count": 29,
     "metadata": {},
     "output_type": "execute_result"
    }
   ],
   "source": [
    "catboost = CatBoostClassifier(iterations=500, eval_metric='Accuracy')\n",
    "catboost.fit(X_train_w2v, y_train, eval_set=(X_val_w2v, y_val))"
   ]
  },
  {
   "cell_type": "code",
   "execution_count": 30,
   "id": "fa239056-739e-49f6-b32f-cf25143d546d",
   "metadata": {
    "execution": {
     "iopub.execute_input": "2024-09-23T17:39:09.233124Z",
     "iopub.status.busy": "2024-09-23T17:39:09.231876Z",
     "iopub.status.idle": "2024-09-23T17:39:09.286738Z",
     "shell.execute_reply": "2024-09-23T17:39:09.285458Z",
     "shell.execute_reply.started": "2024-09-23T17:39:09.233088Z"
    },
    "tags": []
   },
   "outputs": [
    {
     "data": {
      "text/plain": [
       "0.8116343490304709"
      ]
     },
     "execution_count": 30,
     "metadata": {},
     "output_type": "execute_result"
    }
   ],
   "source": [
    "accuracy_score(y_val, catboost.predict(X_val_w2v))"
   ]
  },
  {
   "cell_type": "code",
   "execution_count": 31,
   "id": "1d18ced4-b810-4129-b334-08a066bcd26e",
   "metadata": {
    "execution": {
     "iopub.execute_input": "2024-09-23T17:39:09.594402Z",
     "iopub.status.busy": "2024-09-23T17:39:09.592935Z",
     "iopub.status.idle": "2024-09-23T17:39:09.648153Z",
     "shell.execute_reply": "2024-09-23T17:39:09.646861Z",
     "shell.execute_reply.started": "2024-09-23T17:39:09.594365Z"
    },
    "tags": []
   },
   "outputs": [
    {
     "data": {
      "text/plain": [
       "0.8911347517730497"
      ]
     },
     "execution_count": 31,
     "metadata": {},
     "output_type": "execute_result"
    }
   ],
   "source": [
    "roc_auc_score(y_val, catboost.predict_proba(X_val_w2v)[:, 1])"
   ]
  },
  {
   "cell_type": "markdown",
   "id": "8df52c15-b531-4e1b-978d-cec1d726cc58",
   "metadata": {},
   "source": [
    "## Bert"
   ]
  },
  {
   "cell_type": "code",
   "execution_count": 6,
   "id": "71240306-bf47-4093-b93d-afecc18f48ef",
   "metadata": {
    "execution": {
     "iopub.execute_input": "2024-09-23T17:43:36.138520Z",
     "iopub.status.busy": "2024-09-23T17:43:36.136994Z",
     "iopub.status.idle": "2024-09-23T17:43:43.792699Z",
     "shell.execute_reply": "2024-09-23T17:43:43.791413Z",
     "shell.execute_reply.started": "2024-09-23T17:43:36.138451Z"
    },
    "tags": []
   },
   "outputs": [
    {
     "name": "stderr",
     "output_type": "stream",
     "text": [
      "/home/jupyter/.local/lib/python3.10/site-packages/transformers/utils/hub.py:127: FutureWarning: Using `TRANSFORMERS_CACHE` is deprecated and will be removed in v5 of Transformers. Use `HF_HOME` instead.\n",
      "  warnings.warn(\n",
      "2024-09-23 17:43:40.174948: I tensorflow/core/platform/cpu_feature_guard.cc:182] This TensorFlow binary is optimized to use available CPU instructions in performance-critical operations.\n",
      "To enable the following instructions: AVX2 FMA, in other operations, rebuild TensorFlow with the appropriate compiler flags.\n",
      "2024-09-23 17:43:41.743666: W tensorflow/compiler/tf2tensorrt/utils/py_utils.cc:38] TF-TRT Warning: Could not find TensorRT\n"
     ]
    }
   ],
   "source": [
    "from transformers import AutoTokenizer, AutoModelForSequenceClassification, Trainer, TrainingArguments"
   ]
  },
  {
   "cell_type": "code",
   "execution_count": 7,
   "id": "498cfeb2-0962-4b7c-b42e-e684a92568cc",
   "metadata": {
    "execution": {
     "iopub.execute_input": "2024-09-23T17:43:43.795285Z",
     "iopub.status.busy": "2024-09-23T17:43:43.794124Z",
     "iopub.status.idle": "2024-09-23T17:43:43.810055Z",
     "shell.execute_reply": "2024-09-23T17:43:43.808712Z",
     "shell.execute_reply.started": "2024-09-23T17:43:43.795246Z"
    },
    "tags": []
   },
   "outputs": [],
   "source": [
    "import torch\n",
    "from datasets import Dataset"
   ]
  },
  {
   "cell_type": "code",
   "execution_count": 8,
   "id": "30728940-a692-444b-99d0-55375fbe33f5",
   "metadata": {
    "execution": {
     "iopub.execute_input": "2024-09-23T17:43:43.812480Z",
     "iopub.status.busy": "2024-09-23T17:43:43.811420Z",
     "iopub.status.idle": "2024-09-23T17:43:45.032522Z",
     "shell.execute_reply": "2024-09-23T17:43:45.031210Z",
     "shell.execute_reply.started": "2024-09-23T17:43:43.812443Z"
    },
    "tags": []
   },
   "outputs": [
    {
     "name": "stderr",
     "output_type": "stream",
     "text": [
      "/home/jupyter/.local/lib/python3.10/site-packages/transformers/tokenization_utils_base.py:1601: FutureWarning: `clean_up_tokenization_spaces` was not set. It will be set to `True` by default. This behavior will be depracted in transformers v4.45, and will be then set to `False` by default. For more details check this issue: https://github.com/huggingface/transformers/issues/31884\n",
      "  warnings.warn(\n",
      "Some weights of BertForSequenceClassification were not initialized from the model checkpoint at bert-base-uncased and are newly initialized: ['classifier.bias', 'classifier.weight']\n",
      "You should probably TRAIN this model on a down-stream task to be able to use it for predictions and inference.\n"
     ]
    }
   ],
   "source": [
    "tokenizer = AutoTokenizer.from_pretrained('bert-base-uncased')\n",
    "model = AutoModelForSequenceClassification.from_pretrained('bert-base-uncased', num_labels=len(set(y_train)))"
   ]
  },
  {
   "cell_type": "code",
   "execution_count": 9,
   "id": "4a0e6bf8-82c5-43d3-b587-1a89ff03ee78",
   "metadata": {
    "execution": {
     "iopub.execute_input": "2024-09-23T17:43:45.035013Z",
     "iopub.status.busy": "2024-09-23T17:43:45.034082Z",
     "iopub.status.idle": "2024-09-23T17:43:45.064762Z",
     "shell.execute_reply": "2024-09-23T17:43:45.063577Z",
     "shell.execute_reply.started": "2024-09-23T17:43:45.034968Z"
    },
    "tags": []
   },
   "outputs": [],
   "source": [
    "def tokenize_function(examples):\n",
    "    return tokenizer(examples['text'], padding=\"max_length\", truncation=True)"
   ]
  },
  {
   "cell_type": "code",
   "execution_count": 10,
   "id": "9016e414-e111-4d4e-a8bb-71b687da63fb",
   "metadata": {
    "execution": {
     "iopub.execute_input": "2024-09-23T17:43:45.067676Z",
     "iopub.status.busy": "2024-09-23T17:43:45.065956Z",
     "iopub.status.idle": "2024-09-23T17:43:45.094362Z",
     "shell.execute_reply": "2024-09-23T17:43:45.093117Z",
     "shell.execute_reply.started": "2024-09-23T17:43:45.067622Z"
    },
    "tags": []
   },
   "outputs": [],
   "source": [
    "train_texts = [{\"text\": t} for t in X_train]\n",
    "val_texts = [{\"text\": t} for t in X_val]"
   ]
  },
  {
   "cell_type": "code",
   "execution_count": 11,
   "id": "3a81149c-96f3-45f6-9cd7-c37455dd2bcd",
   "metadata": {
    "execution": {
     "iopub.execute_input": "2024-09-23T17:43:45.098981Z",
     "iopub.status.busy": "2024-09-23T17:43:45.097742Z",
     "iopub.status.idle": "2024-09-23T17:43:45.150304Z",
     "shell.execute_reply": "2024-09-23T17:43:45.148916Z",
     "shell.execute_reply.started": "2024-09-23T17:43:45.098927Z"
    },
    "tags": []
   },
   "outputs": [],
   "source": [
    "train_dataset = Dataset.from_dict({'text': X_train, 'labels': y_train})\n",
    "val_dataset = Dataset.from_dict({'text': X_val, 'labels': y_val})"
   ]
  },
  {
   "cell_type": "code",
   "execution_count": 12,
   "id": "5868d3f2-ebbf-4693-be4c-f289c4f0f7bb",
   "metadata": {
    "execution": {
     "iopub.execute_input": "2024-09-23T17:43:45.153017Z",
     "iopub.status.busy": "2024-09-23T17:43:45.151797Z",
     "iopub.status.idle": "2024-09-23T17:43:46.056071Z",
     "shell.execute_reply": "2024-09-23T17:43:46.054680Z",
     "shell.execute_reply.started": "2024-09-23T17:43:45.152977Z"
    },
    "tags": []
   },
   "outputs": [
    {
     "name": "stderr",
     "output_type": "stream",
     "text": [
      "Map: 100%|██████████| 1440/1440 [00:00<00:00, 2064.41 examples/s]\n",
      "Map: 100%|██████████| 361/361 [00:00<00:00, 2169.25 examples/s]\n"
     ]
    }
   ],
   "source": [
    "train_dataset = train_dataset.map(tokenize_function, batched=True)\n",
    "val_dataset = val_dataset.map(tokenize_function, batched=True)"
   ]
  },
  {
   "cell_type": "code",
   "execution_count": 13,
   "id": "01c57d86-adc8-45ad-9a7c-348ab59f82dd",
   "metadata": {
    "execution": {
     "iopub.execute_input": "2024-09-23T17:43:46.059017Z",
     "iopub.status.busy": "2024-09-23T17:43:46.057643Z",
     "iopub.status.idle": "2024-09-23T17:43:46.073496Z",
     "shell.execute_reply": "2024-09-23T17:43:46.072340Z",
     "shell.execute_reply.started": "2024-09-23T17:43:46.058961Z"
    },
    "tags": []
   },
   "outputs": [
    {
     "data": {
      "text/plain": [
       "512"
      ]
     },
     "execution_count": 13,
     "metadata": {},
     "output_type": "execute_result"
    }
   ],
   "source": [
    "len(next(iter(train_dataset))['input_ids'])"
   ]
  },
  {
   "cell_type": "code",
   "execution_count": 14,
   "id": "2b140011-020d-497d-9a77-80e0bab500ba",
   "metadata": {
    "execution": {
     "iopub.execute_input": "2024-09-23T17:43:46.075718Z",
     "iopub.status.busy": "2024-09-23T17:43:46.074708Z",
     "iopub.status.idle": "2024-09-23T17:43:46.092047Z",
     "shell.execute_reply": "2024-09-23T17:43:46.090861Z",
     "shell.execute_reply.started": "2024-09-23T17:43:46.075681Z"
    },
    "tags": []
   },
   "outputs": [],
   "source": [
    "train_dataset.set_format(type='torch', columns=['input_ids', 'attention_mask', 'labels'])\n",
    "val_dataset.set_format(type='torch', columns=['input_ids', 'attention_mask', 'labels'])"
   ]
  },
  {
   "cell_type": "code",
   "execution_count": 15,
   "id": "4bc87b9a-708f-4927-a424-b74b5de29f95",
   "metadata": {
    "execution": {
     "iopub.execute_input": "2024-09-23T17:43:46.094478Z",
     "iopub.status.busy": "2024-09-23T17:43:46.093411Z",
     "iopub.status.idle": "2024-09-23T17:43:46.213822Z",
     "shell.execute_reply": "2024-09-23T17:43:46.212681Z",
     "shell.execute_reply.started": "2024-09-23T17:43:46.094432Z"
    },
    "tags": []
   },
   "outputs": [
    {
     "name": "stderr",
     "output_type": "stream",
     "text": [
      "/home/jupyter/.local/lib/python3.10/site-packages/transformers/training_args.py:1525: FutureWarning: `evaluation_strategy` is deprecated and will be removed in version 4.46 of 🤗 Transformers. Use `eval_strategy` instead\n",
      "  warnings.warn(\n"
     ]
    }
   ],
   "source": [
    "training_args = TrainingArguments(\n",
    "    output_dir='./results',\n",
    "    evaluation_strategy=\"epoch\",\n",
    "    learning_rate=2e-5,\n",
    "    per_device_train_batch_size=32,\n",
    "    per_device_eval_batch_size=32,\n",
    "    num_train_epochs=3,\n",
    "    weight_decay=0.01,\n",
    ")"
   ]
  },
  {
   "cell_type": "code",
   "execution_count": 16,
   "id": "f58cad5a-b3b4-4350-a906-ecd7ae35c69b",
   "metadata": {
    "execution": {
     "iopub.execute_input": "2024-09-23T17:43:46.216596Z",
     "iopub.status.busy": "2024-09-23T17:43:46.215137Z",
     "iopub.status.idle": "2024-09-23T17:43:48.292226Z",
     "shell.execute_reply": "2024-09-23T17:43:48.290974Z",
     "shell.execute_reply.started": "2024-09-23T17:43:46.216541Z"
    },
    "tags": []
   },
   "outputs": [],
   "source": [
    "trainer = Trainer(\n",
    "    model=model.cuda(),\n",
    "    args=training_args,\n",
    "    train_dataset=train_dataset,\n",
    "    eval_dataset=val_dataset,\n",
    ")"
   ]
  },
  {
   "cell_type": "code",
   "execution_count": null,
   "id": "60ef888a-7965-4fa2-8166-1d8097a2a6f3",
   "metadata": {
    "execution": {
     "iopub.execute_input": "2024-09-23T17:43:48.294754Z",
     "iopub.status.busy": "2024-09-23T17:43:48.293594Z"
    },
    "tags": []
   },
   "outputs": [
    {
     "name": "stderr",
     "output_type": "stream",
     "text": [
      "wandb: WARNING The `run_name` is currently set to the same value as `TrainingArguments.output_dir`. If this was not intended, please specify a different run name by setting the `TrainingArguments.run_name` parameter.\n",
      "wandb: Currently logged in as: kwargs. Use `wandb login --relogin` to force relogin\n",
      "wandb: wandb version 0.18.1 is available!  To upgrade, please run:\n",
      "wandb:  $ pip install wandb --upgrade\n",
      "wandb: Tracking run with wandb version 0.17.7\n",
      "wandb: Run data is saved locally in /home/jupyter/work/resources/wandb/run-20240923_174350-0npsdtou\n",
      "wandb: Run `wandb offline` to turn off syncing.\n",
      "wandb: Syncing run ./results\n",
      "wandb: ⭐️ View project at https://wandb.ai/kwargs/huggingface\n",
      "wandb: 🚀 View run at https://wandb.ai/kwargs/huggingface/runs/0npsdtou\n"
     ]
    },
    {
     "name": "stdout",
     "output_type": "stream",
     "text": [
      "ClearML Task: overwriting (reusing) task id=9901f234bb574930a96160c7218bd248\n",
      "2024-09-23 17:43:57,895 - clearml.Task - INFO - No repository found, storing script code instead\n",
      "WARNING:tensorflow:Please fix your imports. Module tensorflow.python.training.tracking.util has been moved to tensorflow.python.checkpoint.checkpoint. The old module will be deleted in version 2.11.\n",
      "ClearML results page: https://app.clear.ml/projects/1f5fc75d299a477a8d91405c27055e39/experiments/9901f234bb574930a96160c7218bd248/output/log\n",
      "2024-09-23 17:44:00,830 - clearml.log - WARNING - Event reporting sub-process lost, switching to thread based reporting\n"
     ]
    },
    {
     "name": "stderr",
     "output_type": "stream",
     "text": [
      "huggingface/tokenizers: The current process just got forked, after parallelism has already been used. Disabling parallelism to avoid deadlocks...\n",
      "To disable this warning, you can either:\n",
      "\t- Avoid using `tokenizers` before the fork if possible\n",
      "\t- Explicitly set the environment variable TOKENIZERS_PARALLELISM=(true | false)\n"
     ]
    },
    {
     "name": "stdout",
     "output_type": "stream",
     "text": [
      "2024-09-23 17:44:01,667 - clearml.Task - WARNING - Parameters must be of builtin type (Transformers/accelerator_config[AcceleratorConfig])\n"
     ]
    },
    {
     "name": "stderr",
     "output_type": "stream",
     "text": [
      " 33%|███▎      | 45/135 [00:42<01:23,  1.08it/s]\n",
      "  0%|          | 0/12 [00:00<?, ?it/s]\u001b[A\n",
      " 25%|██▌       | 3/12 [00:00<00:00,  9.18it/s]\u001b[A\n",
      " 33%|███▎      | 4/12 [00:00<00:01,  5.82it/s]\u001b[A\n",
      " 42%|████▏     | 5/12 [00:00<00:01,  4.73it/s]\u001b[A\n",
      " 50%|█████     | 6/12 [00:01<00:01,  4.18it/s]\u001b[A\n",
      " 58%|█████▊    | 7/12 [00:01<00:01,  3.87it/s]\u001b[A\n",
      " 67%|██████▋   | 8/12 [00:01<00:01,  3.68it/s]\u001b[A\n",
      " 75%|███████▌  | 9/12 [00:02<00:00,  3.57it/s]\u001b[A\n",
      " 83%|████████▎ | 10/12 [00:02<00:00,  3.49it/s]\u001b[A\n",
      " 92%|█████████▏| 11/12 [00:02<00:00,  3.44it/s]\u001b[A\n",
      "                                                [A\n",
      " 33%|███▎      | 45/135 [00:45<01:23,  1.08it/s]\n",
      "100%|██████████| 12/12 [00:03<00:00,  3.18it/s]\u001b[A\n",
      "                                               \u001b[A"
     ]
    },
    {
     "name": "stdout",
     "output_type": "stream",
     "text": [
      "{'eval_loss': 0.6328701972961426, 'eval_runtime': 3.4188, 'eval_samples_per_second': 105.591, 'eval_steps_per_second': 3.51, 'epoch': 1.0}\n"
     ]
    },
    {
     "name": "stderr",
     "output_type": "stream",
     "text": [
      " 67%|██████▋   | 90/135 [01:27<00:41,  1.08it/s]\n",
      "  0%|          | 0/12 [00:00<?, ?it/s]\u001b[A\n",
      " 17%|█▋        | 2/12 [00:00<00:01,  6.73it/s]\u001b[A\n",
      " 25%|██▌       | 3/12 [00:00<00:01,  4.71it/s]\u001b[A\n",
      " 33%|███▎      | 4/12 [00:00<00:01,  4.07it/s]\u001b[A\n",
      " 42%|████▏     | 5/12 [00:01<00:01,  3.78it/s]\u001b[A\n",
      " 50%|█████     | 6/12 [00:01<00:01,  3.62it/s]\u001b[A\n",
      " 58%|█████▊    | 7/12 [00:01<00:01,  3.51it/s]\u001b[A\n",
      " 67%|██████▋   | 8/12 [00:02<00:01,  3.45it/s]\u001b[A\n",
      " 75%|███████▌  | 9/12 [00:02<00:00,  3.42it/s]\u001b[A\n",
      " 83%|████████▎ | 10/12 [00:02<00:00,  3.38it/s]\u001b[A\n",
      " 92%|█████████▏| 11/12 [00:03<00:00,  3.37it/s]\u001b[A\n",
      "                                                [A\n",
      " 67%|██████▋   | 90/135 [01:31<00:41,  1.08it/s]\n",
      "100%|██████████| 12/12 [00:03<00:00,  3.36it/s]\u001b[A\n",
      "                                               \u001b[A"
     ]
    },
    {
     "name": "stdout",
     "output_type": "stream",
     "text": [
      "{'eval_loss': 0.5421268343925476, 'eval_runtime': 3.4018, 'eval_samples_per_second': 106.119, 'eval_steps_per_second': 3.528, 'epoch': 2.0}\n"
     ]
    },
    {
     "name": "stderr",
     "output_type": "stream",
     "text": [
      "100%|██████████| 135/135 [02:12<00:00,  1.08it/s]"
     ]
    }
   ],
   "source": [
    "trainer.train()"
   ]
  },
  {
   "cell_type": "code",
   "execution_count": null,
   "id": "a15e33e9-118b-4103-b80d-842c10afde4e",
   "metadata": {},
   "outputs": [],
   "source": []
  }
 ],
 "metadata": {
  "kernelspec": {
   "display_name": "DataSphere Kernel",
   "language": "python",
   "name": "python3"
  },
  "language_info": {
   "codemirror_mode": {
    "name": "ipython",
    "version": 3
   },
   "file_extension": ".py",
   "mimetype": "text/x-python",
   "name": "python",
   "nbconvert_exporter": "python",
   "pygments_lexer": "ipython3",
   "version": "3.10.12"
  }
 },
 "nbformat": 4,
 "nbformat_minor": 5
}
